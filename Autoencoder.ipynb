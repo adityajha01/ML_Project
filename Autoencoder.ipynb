{
  "cells": [
    {
      "cell_type": "markdown",
      "metadata": {
        "id": "TF3-WfdAEaEJ"
      },
      "source": []
    },
    {
      "cell_type": "code",
      "execution_count": 124,
      "metadata": {
        "id": "LuNM6HNUvFgn"
      },
      "outputs": [],
      "source": [
        "import pandas as pd\n",
        "import numpy as np\n",
        "import matplotlib.pyplot as plt\n",
        "import tensorflow as tf\n",
        "import cv2\n",
        "import seaborn as sn\n",
        "from sklearn.preprocessing import LabelBinarizer\n",
        "from tensorflow import keras\n",
        "import keras\n",
        "from keras.models import Sequential, Model\n",
        "from keras.layers import Dense, Input\n",
        "from keras import optimizers\n",
        "from tensorflow.keras import layers, callbacks"
      ]
    },
    {
      "cell_type": "code",
      "execution_count": 125,
      "metadata": {
        "colab": {
          "base_uri": "https://localhost:8080/"
        },
        "id": "CryReDvQt8zg",
        "outputId": "e5e0a839-6d2c-483f-daa5-e7242f554274"
      },
      "outputs": [
        {
          "name": "stdout",
          "output_type": "stream",
          "text": [
            "Drive already mounted at /content/drive; to attempt to forcibly remount, call drive.mount(\"/content/drive\", force_remount=True).\n"
          ]
        }
      ],
      "source": [
        "from google.colab import drive\n",
        "drive.mount('/content/drive')"
      ]
    },
    {
      "cell_type": "markdown",
      "metadata": {
        "id": "NUtpjQG5wnur"
      },
      "source": [
        "# Reading Tranning Dataset"
      ]
    },
    {
      "cell_type": "code",
      "execution_count": 130,
      "metadata": {
        "id": "-tH11sedvKct"
      },
      "outputs": [],
      "source": [
        "path = \"/content/drive/MyDrive/Group_32/PDX_Train.csv\"\n",
        "PDX_Train = pd.read_csv(path)\n",
        "PDX_Train=PDX_Train.drop('Unnamed: 0',axis=1)"
      ]
    },
    {
      "cell_type": "code",
      "execution_count": null,
      "metadata": {
        "id": "4ewFBhKgwc7F"
      },
      "outputs": [],
      "source": [
        "path = \"/content/drive/MyDrive/Group_32/PDY_Train.csv\"\n",
        "PDY_Train = pd.read_csv(path)\n",
        "PDY_Train=PDY_Train.drop('Unnamed: 0',axis=1)"
      ]
    },
    {
      "cell_type": "code",
      "execution_count": null,
      "metadata": {
        "colab": {
          "base_uri": "https://localhost:8080/",
          "height": 423
        },
        "id": "tc-bo6eJzLSK",
        "outputId": "724bd3da-6708-48c7-8003-3af195075c2b"
      },
      "outputs": [
        {
          "data": {
            "text/html": [
              "\n",
              "  <div id=\"df-0fdbbc72-919f-4878-8e6b-c0b1ae46f446\">\n",
              "    <div class=\"colab-df-container\">\n",
              "      <div>\n",
              "<style scoped>\n",
              "    .dataframe tbody tr th:only-of-type {\n",
              "        vertical-align: middle;\n",
              "    }\n",
              "\n",
              "    .dataframe tbody tr th {\n",
              "        vertical-align: top;\n",
              "    }\n",
              "\n",
              "    .dataframe thead th {\n",
              "        text-align: right;\n",
              "    }\n",
              "</style>\n",
              "<table border=\"1\" class=\"dataframe\">\n",
              "  <thead>\n",
              "    <tr style=\"text-align: right;\">\n",
              "      <th></th>\n",
              "      <th>Label</th>\n",
              "    </tr>\n",
              "  </thead>\n",
              "  <tbody>\n",
              "    <tr>\n",
              "      <th>0</th>\n",
              "      <td>3</td>\n",
              "    </tr>\n",
              "    <tr>\n",
              "      <th>1</th>\n",
              "      <td>5</td>\n",
              "    </tr>\n",
              "    <tr>\n",
              "      <th>2</th>\n",
              "      <td>3</td>\n",
              "    </tr>\n",
              "    <tr>\n",
              "      <th>3</th>\n",
              "      <td>9</td>\n",
              "    </tr>\n",
              "    <tr>\n",
              "      <th>4</th>\n",
              "      <td>0</td>\n",
              "    </tr>\n",
              "    <tr>\n",
              "      <th>...</th>\n",
              "      <td>...</td>\n",
              "    </tr>\n",
              "    <tr>\n",
              "      <th>11380</th>\n",
              "      <td>5</td>\n",
              "    </tr>\n",
              "    <tr>\n",
              "      <th>11381</th>\n",
              "      <td>3</td>\n",
              "    </tr>\n",
              "    <tr>\n",
              "      <th>11382</th>\n",
              "      <td>5</td>\n",
              "    </tr>\n",
              "    <tr>\n",
              "      <th>11383</th>\n",
              "      <td>0</td>\n",
              "    </tr>\n",
              "    <tr>\n",
              "      <th>11384</th>\n",
              "      <td>9</td>\n",
              "    </tr>\n",
              "  </tbody>\n",
              "</table>\n",
              "<p>11385 rows × 1 columns</p>\n",
              "</div>\n",
              "      <button class=\"colab-df-convert\" onclick=\"convertToInteractive('df-0fdbbc72-919f-4878-8e6b-c0b1ae46f446')\"\n",
              "              title=\"Convert this dataframe to an interactive table.\"\n",
              "              style=\"display:none;\">\n",
              "        \n",
              "  <svg xmlns=\"http://www.w3.org/2000/svg\" height=\"24px\"viewBox=\"0 0 24 24\"\n",
              "       width=\"24px\">\n",
              "    <path d=\"M0 0h24v24H0V0z\" fill=\"none\"/>\n",
              "    <path d=\"M18.56 5.44l.94 2.06.94-2.06 2.06-.94-2.06-.94-.94-2.06-.94 2.06-2.06.94zm-11 1L8.5 8.5l.94-2.06 2.06-.94-2.06-.94L8.5 2.5l-.94 2.06-2.06.94zm10 10l.94 2.06.94-2.06 2.06-.94-2.06-.94-.94-2.06-.94 2.06-2.06.94z\"/><path d=\"M17.41 7.96l-1.37-1.37c-.4-.4-.92-.59-1.43-.59-.52 0-1.04.2-1.43.59L10.3 9.45l-7.72 7.72c-.78.78-.78 2.05 0 2.83L4 21.41c.39.39.9.59 1.41.59.51 0 1.02-.2 1.41-.59l7.78-7.78 2.81-2.81c.8-.78.8-2.07 0-2.86zM5.41 20L4 18.59l7.72-7.72 1.47 1.35L5.41 20z\"/>\n",
              "  </svg>\n",
              "      </button>\n",
              "      \n",
              "  <style>\n",
              "    .colab-df-container {\n",
              "      display:flex;\n",
              "      flex-wrap:wrap;\n",
              "      gap: 12px;\n",
              "    }\n",
              "\n",
              "    .colab-df-convert {\n",
              "      background-color: #E8F0FE;\n",
              "      border: none;\n",
              "      border-radius: 50%;\n",
              "      cursor: pointer;\n",
              "      display: none;\n",
              "      fill: #1967D2;\n",
              "      height: 32px;\n",
              "      padding: 0 0 0 0;\n",
              "      width: 32px;\n",
              "    }\n",
              "\n",
              "    .colab-df-convert:hover {\n",
              "      background-color: #E2EBFA;\n",
              "      box-shadow: 0px 1px 2px rgba(60, 64, 67, 0.3), 0px 1px 3px 1px rgba(60, 64, 67, 0.15);\n",
              "      fill: #174EA6;\n",
              "    }\n",
              "\n",
              "    [theme=dark] .colab-df-convert {\n",
              "      background-color: #3B4455;\n",
              "      fill: #D2E3FC;\n",
              "    }\n",
              "\n",
              "    [theme=dark] .colab-df-convert:hover {\n",
              "      background-color: #434B5C;\n",
              "      box-shadow: 0px 1px 3px 1px rgba(0, 0, 0, 0.15);\n",
              "      filter: drop-shadow(0px 1px 2px rgba(0, 0, 0, 0.3));\n",
              "      fill: #FFFFFF;\n",
              "    }\n",
              "  </style>\n",
              "\n",
              "      <script>\n",
              "        const buttonEl =\n",
              "          document.querySelector('#df-0fdbbc72-919f-4878-8e6b-c0b1ae46f446 button.colab-df-convert');\n",
              "        buttonEl.style.display =\n",
              "          google.colab.kernel.accessAllowed ? 'block' : 'none';\n",
              "\n",
              "        async function convertToInteractive(key) {\n",
              "          const element = document.querySelector('#df-0fdbbc72-919f-4878-8e6b-c0b1ae46f446');\n",
              "          const dataTable =\n",
              "            await google.colab.kernel.invokeFunction('convertToInteractive',\n",
              "                                                     [key], {});\n",
              "          if (!dataTable) return;\n",
              "\n",
              "          const docLinkHtml = 'Like what you see? Visit the ' +\n",
              "            '<a target=\"_blank\" href=https://colab.research.google.com/notebooks/data_table.ipynb>data table notebook</a>'\n",
              "            + ' to learn more about interactive tables.';\n",
              "          element.innerHTML = '';\n",
              "          dataTable['output_type'] = 'display_data';\n",
              "          await google.colab.output.renderOutput(dataTable, element);\n",
              "          const docLink = document.createElement('div');\n",
              "          docLink.innerHTML = docLinkHtml;\n",
              "          element.appendChild(docLink);\n",
              "        }\n",
              "      </script>\n",
              "    </div>\n",
              "  </div>\n",
              "  "
            ],
            "text/plain": [
              "       Label\n",
              "0          3\n",
              "1          5\n",
              "2          3\n",
              "3          9\n",
              "4          0\n",
              "...      ...\n",
              "11380      5\n",
              "11381      3\n",
              "11382      5\n",
              "11383      0\n",
              "11384      9\n",
              "\n",
              "[11385 rows x 1 columns]"
            ]
          },
          "execution_count": 5,
          "metadata": {},
          "output_type": "execute_result"
        }
      ],
      "source": [
        "PDY_Train"
      ]
    },
    {
      "cell_type": "markdown",
      "metadata": {
        "id": "S5YQs1Zgw-Q_"
      },
      "source": [
        "# Reading Testing dataset."
      ]
    },
    {
      "cell_type": "code",
      "execution_count": null,
      "metadata": {
        "id": "1KXfQF1vwMRC"
      },
      "outputs": [],
      "source": [
        "path = \"/content/drive/MyDrive/Group_32/PDX_Test.csv\"\n",
        "PDX_Test = pd.read_csv(path)\n",
        "PDX_Test=PDX_Test.drop('Unnamed: 0',axis=1)"
      ]
    },
    {
      "cell_type": "code",
      "execution_count": null,
      "metadata": {
        "id": "dtYxRh0kwOS4"
      },
      "outputs": [],
      "source": [
        "path = \"/content/drive/MyDrive/Group_32/PDY_Test.csv\"\n",
        "PDY_Test = pd.read_csv(path)\n",
        "PDY_Test=PDY_Test.drop('Unnamed: 0',axis=1)"
      ]
    },
    {
      "cell_type": "code",
      "execution_count": null,
      "metadata": {
        "colab": {
          "base_uri": "https://localhost:8080/",
          "height": 423
        },
        "id": "r_C53DxZzn49",
        "outputId": "62a623dd-f5f3-498a-f20c-635cde2a3f61"
      },
      "outputs": [
        {
          "data": {
            "text/html": [
              "\n",
              "  <div id=\"df-26f78a11-ec78-40fc-a9da-fd5f35155e5a\">\n",
              "    <div class=\"colab-df-container\">\n",
              "      <div>\n",
              "<style scoped>\n",
              "    .dataframe tbody tr th:only-of-type {\n",
              "        vertical-align: middle;\n",
              "    }\n",
              "\n",
              "    .dataframe tbody tr th {\n",
              "        vertical-align: top;\n",
              "    }\n",
              "\n",
              "    .dataframe thead th {\n",
              "        text-align: right;\n",
              "    }\n",
              "</style>\n",
              "<table border=\"1\" class=\"dataframe\">\n",
              "  <thead>\n",
              "    <tr style=\"text-align: right;\">\n",
              "      <th></th>\n",
              "      <th>Label</th>\n",
              "    </tr>\n",
              "  </thead>\n",
              "  <tbody>\n",
              "    <tr>\n",
              "      <th>0</th>\n",
              "      <td>3</td>\n",
              "    </tr>\n",
              "    <tr>\n",
              "      <th>1</th>\n",
              "      <td>9</td>\n",
              "    </tr>\n",
              "    <tr>\n",
              "      <th>2</th>\n",
              "      <td>9</td>\n",
              "    </tr>\n",
              "    <tr>\n",
              "      <th>3</th>\n",
              "      <td>3</td>\n",
              "    </tr>\n",
              "    <tr>\n",
              "      <th>4</th>\n",
              "      <td>5</td>\n",
              "    </tr>\n",
              "    <tr>\n",
              "      <th>...</th>\n",
              "      <td>...</td>\n",
              "    </tr>\n",
              "    <tr>\n",
              "      <th>3790</th>\n",
              "      <td>3</td>\n",
              "    </tr>\n",
              "    <tr>\n",
              "      <th>3791</th>\n",
              "      <td>5</td>\n",
              "    </tr>\n",
              "    <tr>\n",
              "      <th>3792</th>\n",
              "      <td>3</td>\n",
              "    </tr>\n",
              "    <tr>\n",
              "      <th>3793</th>\n",
              "      <td>6</td>\n",
              "    </tr>\n",
              "    <tr>\n",
              "      <th>3794</th>\n",
              "      <td>0</td>\n",
              "    </tr>\n",
              "  </tbody>\n",
              "</table>\n",
              "<p>3795 rows × 1 columns</p>\n",
              "</div>\n",
              "      <button class=\"colab-df-convert\" onclick=\"convertToInteractive('df-26f78a11-ec78-40fc-a9da-fd5f35155e5a')\"\n",
              "              title=\"Convert this dataframe to an interactive table.\"\n",
              "              style=\"display:none;\">\n",
              "        \n",
              "  <svg xmlns=\"http://www.w3.org/2000/svg\" height=\"24px\"viewBox=\"0 0 24 24\"\n",
              "       width=\"24px\">\n",
              "    <path d=\"M0 0h24v24H0V0z\" fill=\"none\"/>\n",
              "    <path d=\"M18.56 5.44l.94 2.06.94-2.06 2.06-.94-2.06-.94-.94-2.06-.94 2.06-2.06.94zm-11 1L8.5 8.5l.94-2.06 2.06-.94-2.06-.94L8.5 2.5l-.94 2.06-2.06.94zm10 10l.94 2.06.94-2.06 2.06-.94-2.06-.94-.94-2.06-.94 2.06-2.06.94z\"/><path d=\"M17.41 7.96l-1.37-1.37c-.4-.4-.92-.59-1.43-.59-.52 0-1.04.2-1.43.59L10.3 9.45l-7.72 7.72c-.78.78-.78 2.05 0 2.83L4 21.41c.39.39.9.59 1.41.59.51 0 1.02-.2 1.41-.59l7.78-7.78 2.81-2.81c.8-.78.8-2.07 0-2.86zM5.41 20L4 18.59l7.72-7.72 1.47 1.35L5.41 20z\"/>\n",
              "  </svg>\n",
              "      </button>\n",
              "      \n",
              "  <style>\n",
              "    .colab-df-container {\n",
              "      display:flex;\n",
              "      flex-wrap:wrap;\n",
              "      gap: 12px;\n",
              "    }\n",
              "\n",
              "    .colab-df-convert {\n",
              "      background-color: #E8F0FE;\n",
              "      border: none;\n",
              "      border-radius: 50%;\n",
              "      cursor: pointer;\n",
              "      display: none;\n",
              "      fill: #1967D2;\n",
              "      height: 32px;\n",
              "      padding: 0 0 0 0;\n",
              "      width: 32px;\n",
              "    }\n",
              "\n",
              "    .colab-df-convert:hover {\n",
              "      background-color: #E2EBFA;\n",
              "      box-shadow: 0px 1px 2px rgba(60, 64, 67, 0.3), 0px 1px 3px 1px rgba(60, 64, 67, 0.15);\n",
              "      fill: #174EA6;\n",
              "    }\n",
              "\n",
              "    [theme=dark] .colab-df-convert {\n",
              "      background-color: #3B4455;\n",
              "      fill: #D2E3FC;\n",
              "    }\n",
              "\n",
              "    [theme=dark] .colab-df-convert:hover {\n",
              "      background-color: #434B5C;\n",
              "      box-shadow: 0px 1px 3px 1px rgba(0, 0, 0, 0.15);\n",
              "      filter: drop-shadow(0px 1px 2px rgba(0, 0, 0, 0.3));\n",
              "      fill: #FFFFFF;\n",
              "    }\n",
              "  </style>\n",
              "\n",
              "      <script>\n",
              "        const buttonEl =\n",
              "          document.querySelector('#df-26f78a11-ec78-40fc-a9da-fd5f35155e5a button.colab-df-convert');\n",
              "        buttonEl.style.display =\n",
              "          google.colab.kernel.accessAllowed ? 'block' : 'none';\n",
              "\n",
              "        async function convertToInteractive(key) {\n",
              "          const element = document.querySelector('#df-26f78a11-ec78-40fc-a9da-fd5f35155e5a');\n",
              "          const dataTable =\n",
              "            await google.colab.kernel.invokeFunction('convertToInteractive',\n",
              "                                                     [key], {});\n",
              "          if (!dataTable) return;\n",
              "\n",
              "          const docLinkHtml = 'Like what you see? Visit the ' +\n",
              "            '<a target=\"_blank\" href=https://colab.research.google.com/notebooks/data_table.ipynb>data table notebook</a>'\n",
              "            + ' to learn more about interactive tables.';\n",
              "          element.innerHTML = '';\n",
              "          dataTable['output_type'] = 'display_data';\n",
              "          await google.colab.output.renderOutput(dataTable, element);\n",
              "          const docLink = document.createElement('div');\n",
              "          docLink.innerHTML = docLinkHtml;\n",
              "          element.appendChild(docLink);\n",
              "        }\n",
              "      </script>\n",
              "    </div>\n",
              "  </div>\n",
              "  "
            ],
            "text/plain": [
              "      Label\n",
              "0         3\n",
              "1         9\n",
              "2         9\n",
              "3         3\n",
              "4         5\n",
              "...     ...\n",
              "3790      3\n",
              "3791      5\n",
              "3792      3\n",
              "3793      6\n",
              "3794      0\n",
              "\n",
              "[3795 rows x 1 columns]"
            ]
          },
          "execution_count": 8,
          "metadata": {},
          "output_type": "execute_result"
        }
      ],
      "source": [
        "PDY_Test"
      ]
    },
    {
      "cell_type": "markdown",
      "metadata": {
        "id": "QInTsMHb4lZl"
      },
      "source": [
        "# Reading Validation Data"
      ]
    },
    {
      "cell_type": "code",
      "execution_count": null,
      "metadata": {
        "id": "x597fOVz4pBE"
      },
      "outputs": [],
      "source": [
        "path = \"/content/drive/MyDrive/Group_32/PDX_Val.csv\"\n",
        "PDX_Val = pd.read_csv(path)\n",
        "PDX_Val=PDX_Val.drop('Unnamed: 0',axis=1)"
      ]
    },
    {
      "cell_type": "code",
      "execution_count": null,
      "metadata": {
        "id": "4oRZqzf04xz0"
      },
      "outputs": [],
      "source": [
        "path = \"/content/drive/MyDrive/Group_32/PDY_Val.csv\"\n",
        "PDY_Val = pd.read_csv(path)\n",
        "PDY_Val=PDY_Val.drop('Unnamed: 0',axis=1)"
      ]
    },
    {
      "cell_type": "markdown",
      "metadata": {
        "id": "FAxuTlYt57pi"
      },
      "source": [
        "# Building AutoEncoder"
      ]
    },
    {
      "cell_type": "code",
      "execution_count": null,
      "metadata": {
        "id": "8leJNs4f7uVg"
      },
      "outputs": [],
      "source": [
        "X_Train=PDX_Train.values\n",
        "Y_Train=PDY_Train.values"
      ]
    },
    {
      "cell_type": "code",
      "execution_count": null,
      "metadata": {
        "id": "kYUE29vv717o"
      },
      "outputs": [],
      "source": [
        "X_Test=PDX_Test.values\n",
        "Y_Test=PDY_Test.values"
      ]
    },
    {
      "cell_type": "code",
      "execution_count": null,
      "metadata": {
        "id": "7EQ6d0UL-GvU"
      },
      "outputs": [],
      "source": [
        "X_Val=PDX_Val.values\n",
        "Y_Val=PDY_Val.values"
      ]
    },
    {
      "cell_type": "code",
      "execution_count": null,
      "metadata": {
        "colab": {
          "base_uri": "https://localhost:8080/"
        },
        "id": "hW2JKwtLbIdV",
        "outputId": "4d907b46-e95b-456e-bd70-94f229ceabcf"
      },
      "outputs": [
        {
          "data": {
            "text/plain": [
              "(3795, 784)"
            ]
          },
          "execution_count": 14,
          "metadata": {},
          "output_type": "execute_result"
        }
      ],
      "source": [
        "X_Val.shape"
      ]
    },
    {
      "cell_type": "code",
      "execution_count": null,
      "metadata": {
        "id": "LJxHNo5vEgzD"
      },
      "outputs": [],
      "source": [
        "X_Train=X_Train/255\n",
        "X_Val=X_Val/255\n",
        "X_Test=X_Test/255"
      ]
    },
    {
      "cell_type": "markdown",
      "metadata": {
        "id": "3nfQJ-6BSE2D"
      },
      "source": [
        "# Autoencoder with One Hidden layer"
      ]
    },
    {
      "cell_type": "code",
      "execution_count": null,
      "metadata": {
        "colab": {
          "base_uri": "https://localhost:8080/"
        },
        "id": "wVxx0zSMSMqh",
        "outputId": "36891924-1057-4607-cc8b-8c1fc0450b06"
      },
      "outputs": [
        {
          "name": "stdout",
          "output_type": "stream",
          "text": [
            "Epoch 1/50\n",
            "356/356 [==============================] - 2s 3ms/step - loss: 0.0765 - val_loss: 0.0672\n",
            "Epoch 2/50\n",
            "356/356 [==============================] - 1s 3ms/step - loss: 0.0659 - val_loss: 0.0635\n",
            "Epoch 3/50\n",
            "356/356 [==============================] - 1s 3ms/step - loss: 0.0590 - val_loss: 0.0548\n",
            "Epoch 4/50\n",
            "356/356 [==============================] - 1s 3ms/step - loss: 0.0512 - val_loss: 0.0485\n",
            "Epoch 5/50\n",
            "356/356 [==============================] - 1s 3ms/step - loss: 0.0460 - val_loss: 0.0444\n",
            "Epoch 6/50\n",
            "356/356 [==============================] - 1s 3ms/step - loss: 0.0425 - val_loss: 0.0413\n",
            "Epoch 7/50\n",
            "356/356 [==============================] - 1s 3ms/step - loss: 0.0396 - val_loss: 0.0386\n",
            "Epoch 8/50\n",
            "356/356 [==============================] - 1s 3ms/step - loss: 0.0372 - val_loss: 0.0365\n",
            "Epoch 9/50\n",
            "356/356 [==============================] - 1s 3ms/step - loss: 0.0352 - val_loss: 0.0347\n",
            "Epoch 10/50\n",
            "356/356 [==============================] - 1s 3ms/step - loss: 0.0336 - val_loss: 0.0333\n",
            "Epoch 11/50\n",
            "356/356 [==============================] - 1s 4ms/step - loss: 0.0323 - val_loss: 0.0320\n",
            "Epoch 12/50\n",
            "356/356 [==============================] - 1s 3ms/step - loss: 0.0311 - val_loss: 0.0309\n",
            "Epoch 13/50\n",
            "356/356 [==============================] - 1s 3ms/step - loss: 0.0300 - val_loss: 0.0299\n",
            "Epoch 14/50\n",
            "356/356 [==============================] - 1s 4ms/step - loss: 0.0291 - val_loss: 0.0290\n",
            "Epoch 15/50\n",
            "356/356 [==============================] - 1s 3ms/step - loss: 0.0282 - val_loss: 0.0282\n",
            "Epoch 16/50\n",
            "356/356 [==============================] - 1s 3ms/step - loss: 0.0275 - val_loss: 0.0275\n",
            "Epoch 17/50\n",
            "356/356 [==============================] - 1s 3ms/step - loss: 0.0268 - val_loss: 0.0268\n",
            "Epoch 18/50\n",
            "356/356 [==============================] - 1s 3ms/step - loss: 0.0262 - val_loss: 0.0263\n",
            "Epoch 19/50\n",
            "356/356 [==============================] - 1s 3ms/step - loss: 0.0256 - val_loss: 0.0258\n",
            "Epoch 20/50\n",
            "356/356 [==============================] - 1s 3ms/step - loss: 0.0251 - val_loss: 0.0253\n",
            "Epoch 21/50\n",
            "356/356 [==============================] - 1s 3ms/step - loss: 0.0247 - val_loss: 0.0248\n",
            "Epoch 22/50\n",
            "356/356 [==============================] - 1s 3ms/step - loss: 0.0243 - val_loss: 0.0245\n",
            "Epoch 23/50\n",
            "356/356 [==============================] - 1s 3ms/step - loss: 0.0239 - val_loss: 0.0241\n",
            "Epoch 24/50\n",
            "356/356 [==============================] - 1s 3ms/step - loss: 0.0236 - val_loss: 0.0238\n",
            "Epoch 25/50\n",
            "356/356 [==============================] - 1s 3ms/step - loss: 0.0233 - val_loss: 0.0235\n",
            "Epoch 26/50\n",
            "356/356 [==============================] - 1s 3ms/step - loss: 0.0229 - val_loss: 0.0230\n",
            "Epoch 27/50\n",
            "356/356 [==============================] - 1s 3ms/step - loss: 0.0224 - val_loss: 0.0226\n",
            "Epoch 28/50\n",
            "356/356 [==============================] - 1s 3ms/step - loss: 0.0221 - val_loss: 0.0223\n",
            "Epoch 29/50\n",
            "356/356 [==============================] - 1s 3ms/step - loss: 0.0218 - val_loss: 0.0220\n",
            "Epoch 30/50\n",
            "356/356 [==============================] - 1s 3ms/step - loss: 0.0215 - val_loss: 0.0218\n",
            "Epoch 31/50\n",
            "356/356 [==============================] - 1s 3ms/step - loss: 0.0213 - val_loss: 0.0216\n",
            "Epoch 32/50\n",
            "356/356 [==============================] - 1s 3ms/step - loss: 0.0211 - val_loss: 0.0214\n",
            "Epoch 33/50\n",
            "356/356 [==============================] - 1s 3ms/step - loss: 0.0209 - val_loss: 0.0212\n",
            "Epoch 34/50\n",
            "356/356 [==============================] - 1s 3ms/step - loss: 0.0207 - val_loss: 0.0210\n",
            "Epoch 35/50\n",
            "356/356 [==============================] - 1s 3ms/step - loss: 0.0204 - val_loss: 0.0207\n",
            "Epoch 36/50\n",
            "356/356 [==============================] - 1s 3ms/step - loss: 0.0201 - val_loss: 0.0203\n",
            "Epoch 37/50\n",
            "356/356 [==============================] - 1s 3ms/step - loss: 0.0196 - val_loss: 0.0197\n",
            "Epoch 38/50\n",
            "356/356 [==============================] - 1s 3ms/step - loss: 0.0190 - val_loss: 0.0191\n",
            "Epoch 39/50\n",
            "356/356 [==============================] - 1s 3ms/step - loss: 0.0183 - val_loss: 0.0185\n",
            "Epoch 40/50\n",
            "356/356 [==============================] - 1s 3ms/step - loss: 0.0176 - val_loss: 0.0177\n",
            "Epoch 41/50\n",
            "356/356 [==============================] - 1s 3ms/step - loss: 0.0168 - val_loss: 0.0168\n",
            "Epoch 42/50\n",
            "356/356 [==============================] - 1s 3ms/step - loss: 0.0159 - val_loss: 0.0159\n",
            "Epoch 43/50\n",
            "356/356 [==============================] - 1s 3ms/step - loss: 0.0150 - val_loss: 0.0151\n",
            "Epoch 44/50\n",
            "356/356 [==============================] - 1s 3ms/step - loss: 0.0143 - val_loss: 0.0144\n",
            "Epoch 45/50\n",
            "356/356 [==============================] - 1s 3ms/step - loss: 0.0135 - val_loss: 0.0137\n",
            "Epoch 46/50\n",
            "356/356 [==============================] - 1s 3ms/step - loss: 0.0129 - val_loss: 0.0131\n",
            "Epoch 47/50\n",
            "356/356 [==============================] - 1s 3ms/step - loss: 0.0123 - val_loss: 0.0125\n",
            "Epoch 48/50\n",
            "356/356 [==============================] - 1s 3ms/step - loss: 0.0117 - val_loss: 0.0119\n",
            "Epoch 49/50\n",
            "356/356 [==============================] - 1s 3ms/step - loss: 0.0112 - val_loss: 0.0115\n",
            "Epoch 50/50\n",
            "356/356 [==============================] - 1s 3ms/step - loss: 0.0108 - val_loss: 0.0110\n"
          ]
        }
      ],
      "source": [
        "autoencoder = Sequential()\n",
        "autoencoder.add(Dense(50,  activation='sigmoid',name=\"bottleneck\",input_shape=(784,)))\n",
        "autoencoder.add(Dense(784,  activation='sigmoid'))\n",
        "autoencoder.compile(loss='mean_squared_error', optimizer = 'adam')\n",
        "\n",
        "early_stopping = callbacks.EarlyStopping(\n",
        "    min_delta=10E-4, # difference between average error of successive epochs fall below a threshold 10-4\n",
        "    patience=5, # how many epochs to wait before stopping\n",
        "    restore_best_weights=True,\n",
        ")\n",
        "#Train Model\n",
        "trained_model = autoencoder.fit(X_Train, X_Train, batch_size=32, epochs=50, verbose=1, validation_data=(X_Val, X_Val),callbacks=[early_stopping])\n",
        "\n",
        "\n",
        "encoder = Model(autoencoder.input, autoencoder.get_layer('bottleneck').output)\n",
        "Train_encoded_data = encoder.predict(X_Train)  # bottleneck representation\n",
        "Val_encoded_data = encoder.predict(X_Val)\n",
        "Test_encoded_data =  encoder.predict(X_Test)\n",
        "decoded_output = autoencoder.predict(X_Train)        # reconstruction\n",
        "encoding_dim = 50\n",
        "\n",
        "# return the decoder\n",
        "encoded_input = Input(shape=(encoding_dim,))\n",
        "decoder = autoencoder.layers[-1](encoded_input)\n",
        "decoder = Model(encoded_input, decoder)"
      ]
    },
    {
      "cell_type": "code",
      "execution_count": null,
      "metadata": {
        "colab": {
          "base_uri": "https://localhost:8080/",
          "height": 282
        },
        "id": "AWJXyzQ8SMjg",
        "outputId": "039734dd-e95a-4f32-a791-5e8104bf256a"
      },
      "outputs": [
        {
          "name": "stdout",
          "output_type": "stream",
          "text": [
            "Minimum Validation Loss:- 0.011017887853085995\n"
          ]
        },
        {
          "data": {
            "image/png": "[encoded data removed]",
            "text/plain": [
              "<Figure size 432x288 with 1 Axes>"
            ]
          },
          "metadata": {
            "needs_background": "light"
          },
          "output_type": "display_data"
        }
      ],
      "source": [
        "history_df = pd.DataFrame(trained_model.history)\n",
        "# Start the plot at epoch 5\n",
        "history_df.loc[:, ['loss', 'val_loss']].plot()\n",
        "# history_df.loc[:, ['accuracy', 'val_accuracy']].plot()\n",
        "\n",
        "print(\"Minimum Validation Loss:-\",history_df['val_loss'].min())"
      ]
    },
    {
      "cell_type": "code",
      "execution_count": null,
      "metadata": {
        "colab": {
          "base_uri": "https://localhost:8080/"
        },
        "id": "UGBlhiE3SMcy",
        "outputId": "76b10dba-072a-484b-db96-2eafd92735a2"
      },
      "outputs": [
        {
          "data": {
            "text/plain": [
              "(11385, 784)"
            ]
          },
          "execution_count": 18,
          "metadata": {},
          "output_type": "execute_result"
        }
      ],
      "source": [
        "decoded_output.shape"
      ]
    },
    {
      "cell_type": "code",
      "execution_count": null,
      "metadata": {
        "colab": {
          "base_uri": "https://localhost:8080/"
        },
        "id": "mSHtWqikSMWA",
        "outputId": "2d7fff8c-9bb8-415c-8df2-7510e258611d"
      },
      "outputs": [
        {
          "data": {
            "text/plain": [
              "(11385, 50)"
            ]
          },
          "execution_count": 19,
          "metadata": {},
          "output_type": "execute_result"
        }
      ],
      "source": [
        "Train_encoded_data.shape"
      ]
    },
    {
      "cell_type": "code",
      "execution_count": null,
      "metadata": {
        "colab": {
          "base_uri": "https://localhost:8080/"
        },
        "id": "Lu5mdDXeSMOz",
        "outputId": "e2fb94e2-ed8e-4fac-bbdc-c8bb840c1645"
      },
      "outputs": [
        {
          "name": "stdout",
          "output_type": "stream",
          "text": [
            "119/119 [==============================] - 0s 2ms/step - loss: 0.0111\n"
          ]
        },
        {
          "data": {
            "text/plain": [
              "0.011063656769692898"
            ]
          },
          "execution_count": 20,
          "metadata": {},
          "output_type": "execute_result"
        }
      ],
      "source": [
        "autoencoder.evaluate(X_Test, X_Test)"
      ]
    },
    {
      "cell_type": "code",
      "execution_count": null,
      "metadata": {
        "id": "C9ETrvd_SMIA"
      },
      "outputs": [],
      "source": []
    },
    {
      "cell_type": "code",
      "execution_count": null,
      "metadata": {
        "id": "rNt7sT8KVF44"
      },
      "outputs": [],
      "source": [
        "i=decoded_output.reshape(11385,28,28)"
      ]
    },
    {
      "cell_type": "code",
      "execution_count": null,
      "metadata": {
        "colab": {
          "base_uri": "https://localhost:8080/",
          "height": 282
        },
        "id": "KiGoeAn3VF5F",
        "outputId": "ac1fa2f3-cf3d-4a11-d249-a6f01694ed02"
      },
      "outputs": [
        {
          "data": {
            "text/plain": [
              "<matplotlib.image.AxesImage at 0x7fc88f029150>"
            ]
          },
          "execution_count": 23,
          "metadata": {},
          "output_type": "execute_result"
        },
        {
          "data": {
            "image/png": "[encoded data removed]",
            "text/plain": [
              "<Figure size 432x288 with 1 Axes>"
            ]
          },
          "metadata": {
            "needs_background": "light"
          },
          "output_type": "display_data"
        }
      ],
      "source": [
        "import matplotlib.pyplot as plt\n",
        "plt.imshow(i[0],cmap='gray')"
      ]
    },
    {
      "cell_type": "code",
      "execution_count": null,
      "metadata": {
        "colab": {
          "base_uri": "https://localhost:8080/",
          "height": 282
        },
        "id": "fHXxoDtaVF5H",
        "outputId": "ad6b6706-5fd3-4a50-b905-572a33c84f7e"
      },
      "outputs": [
        {
          "data": {
            "text/plain": [
              "<matplotlib.image.AxesImage at 0x7fc88eff2790>"
            ]
          },
          "execution_count": 25,
          "metadata": {},
          "output_type": "execute_result"
        },
        {
          "data": {
            "image/png": "[encoded data removed]",
            "text/plain": [
              "<Figure size 432x288 with 1 Axes>"
            ]
          },
          "metadata": {
            "needs_background": "light"
          },
          "output_type": "display_data"
        }
      ],
      "source": [
        "ti=X_Train.reshape(11385,28,28)\n",
        "plt.imshow(ti[0],cmap='gray')"
      ]
    },
    {
      "cell_type": "markdown",
      "metadata": {
        "id": "6DTuImoo5Avj"
      },
      "source": [
        "# FCNN For Compressed data Classification."
      ]
    },
    {
      "cell_type": "code",
      "execution_count": null,
      "metadata": {
        "colab": {
          "base_uri": "https://localhost:8080/"
        },
        "id": "WHHA6eYSSMBQ",
        "outputId": "01ba7122-3bf6-46be-b69e-56f010f23f04"
      },
      "outputs": [
        {
          "data": {
            "text/plain": [
              "(11385, 50)"
            ]
          },
          "execution_count": 26,
          "metadata": {},
          "output_type": "execute_result"
        }
      ],
      "source": [
        "Train_encoded_data.shape"
      ]
    },
    {
      "cell_type": "code",
      "execution_count": null,
      "metadata": {
        "id": "P-uokzygSL3o"
      },
      "outputs": [],
      "source": [
        "model = keras.Sequential([\n",
        "    keras.layers.Dense(400, input_shape=(50,), activation='sigmoid'),\n",
        "    keras.layers.Dense(300, activation='sigmoid'),\n",
        "    keras.layers.Dense(200, activation='sigmoid'),\n",
        "    keras.layers.Dense(10, activation='sigmoid')\n",
        "])\n",
        "\n",
        "model.compile(optimizer='adam',\n",
        "              loss='sparse_categorical_crossentropy',\n",
        "              metrics=['accuracy'])"
      ]
    },
    {
      "cell_type": "code",
      "execution_count": null,
      "metadata": {
        "id": "SOi5_g17OuKb"
      },
      "outputs": [],
      "source": [
        "from tensorflow.keras import layers, callbacks"
      ]
    },
    {
      "cell_type": "code",
      "execution_count": null,
      "metadata": {
        "colab": {
          "base_uri": "https://localhost:8080/"
        },
        "id": "y6B-cSUoSLwQ",
        "outputId": "c30452d1-5ffd-4a39-f8d4-34672b3f8cbf"
      },
      "outputs": [
        {
          "name": "stdout",
          "output_type": "stream",
          "text": [
            "Epoch 1/100\n",
            "356/356 [==============================] - 2s 5ms/step - loss: 0.9623 - accuracy: 0.6113 - val_loss: 0.4154 - val_accuracy: 0.8627\n",
            "Epoch 2/100\n",
            "356/356 [==============================] - 2s 5ms/step - loss: 0.3025 - accuracy: 0.8964 - val_loss: 0.2895 - val_accuracy: 0.9054\n",
            "Epoch 3/100\n",
            "356/356 [==============================] - 2s 5ms/step - loss: 0.2500 - accuracy: 0.9135 - val_loss: 0.2480 - val_accuracy: 0.9173\n",
            "Epoch 4/100\n",
            "356/356 [==============================] - 2s 5ms/step - loss: 0.2342 - accuracy: 0.9188 - val_loss: 0.2299 - val_accuracy: 0.9225\n",
            "Epoch 5/100\n",
            "356/356 [==============================] - 2s 5ms/step - loss: 0.2286 - accuracy: 0.9196 - val_loss: 0.2391 - val_accuracy: 0.9170\n"
          ]
        }
      ],
      "source": [
        "early_stopping = callbacks.EarlyStopping(\n",
        "    min_delta=10E-4, # minimium amount of change to count as an improvement\n",
        "    patience=1, # how many epochs to wait before stopping\n",
        "    restore_best_weights=True,\n",
        ")\n",
        "\n",
        "\n",
        "history = model.fit(\n",
        "    Train_encoded_data, Y_Train,\n",
        "    validation_data=(Val_encoded_data, Y_Val),\n",
        "    epochs=100,\n",
        "    callbacks=[early_stopping]\n",
        ")"
      ]
    },
    {
      "cell_type": "code",
      "execution_count": null,
      "metadata": {
        "colab": {
          "base_uri": "https://localhost:8080/",
          "height": 548
        },
        "id": "fEMtWw8x5fyO",
        "outputId": "29653e91-851f-4c13-9ce9-5584dd400cb2"
      },
      "outputs": [
        {
          "name": "stdout",
          "output_type": "stream",
          "text": [
            "Best Validation Loss: 0.2299\n",
            "Best Validation Accuracy: 0.9225\n"
          ]
        },
        {
          "data": {
            "image/png": "[encoded data removed]",
            "text/plain": [
              "<Figure size 432x288 with 1 Axes>"
            ]
          },
          "metadata": {
            "needs_background": "light"
          },
          "output_type": "display_data"
        },
        {
          "data": {
            "image/png": "[encoded data removed]",
            "text/plain": [
              "<Figure size 432x288 with 1 Axes>"
            ]
          },
          "metadata": {
            "needs_background": "light"
          },
          "output_type": "display_data"
        }
      ],
      "source": [
        "history_df = pd.DataFrame(history.history)\n",
        "# Start the plot at epoch 5\n",
        "history_df.loc[:, ['loss', 'val_loss']].plot()\n",
        "history_df.loc[:, ['accuracy', 'val_accuracy']].plot()\n",
        "\n",
        "print((\"Best Validation Loss: {:0.4f}\" +\\\n",
        "      \"\\nBest Validation Accuracy: {:0.4f}\")\\\n",
        "      .format(history_df['val_loss'].min(), \n",
        "              history_df['val_accuracy'].max()))"
      ]
    },
    {
      "cell_type": "code",
      "execution_count": null,
      "metadata": {
        "colab": {
          "base_uri": "https://localhost:8080/"
        },
        "id": "NdnHVVIY5fuM",
        "outputId": "a8005a2a-2fa8-4f11-eb2b-b6e44f11bfa0"
      },
      "outputs": [
        {
          "name": "stdout",
          "output_type": "stream",
          "text": [
            "119/119 [==============================] - 0s 2ms/step - loss: 0.2210 - accuracy: 0.9246\n"
          ]
        },
        {
          "data": {
            "text/plain": [
              "[0.22097556293010712, 0.9246376752853394]"
            ]
          },
          "execution_count": 60,
          "metadata": {},
          "output_type": "execute_result"
        }
      ],
      "source": [
        "model.evaluate(Test_encoded_data, Y_Test)"
      ]
    },
    {
      "cell_type": "code",
      "execution_count": null,
      "metadata": {
        "id": "5bTSkvMD5frm"
      },
      "outputs": [],
      "source": [
        "y_pred = model.predict(Test_encoded_data)"
      ]
    },
    {
      "cell_type": "code",
      "execution_count": null,
      "metadata": {
        "id": "BWhQlFHl5fo2"
      },
      "outputs": [],
      "source": [
        "pred_out = []\n",
        "for dataPoint in y_pred:\n",
        "  pred_out.append(np.argmax(dataPoint))"
      ]
    },
    {
      "cell_type": "code",
      "execution_count": null,
      "metadata": {
        "colab": {
          "base_uri": "https://localhost:8080/"
        },
        "id": "YE8hvlkN5fl2",
        "outputId": "32437c7d-c6a2-4bf1-fdcf-a16e2f711a11"
      },
      "outputs": [
        {
          "data": {
            "text/plain": [
              "array([[0.9414071 , 0.00545976, 0.00760168, ..., 0.00437525, 0.02194631,\n",
              "        0.3429755 ],\n",
              "       [0.03554195, 0.00904074, 0.00466385, ..., 0.00513467, 0.03139323,\n",
              "        0.9984792 ],\n",
              "       [0.04661971, 0.01273841, 0.00367737, ..., 0.00416353, 0.0416787 ,\n",
              "        0.9996506 ],\n",
              "       ...,\n",
              "       [0.68982214, 0.00356805, 0.00449872, ..., 0.00504473, 0.01352847,\n",
              "        0.55278563],\n",
              "       [0.77019763, 0.01243222, 0.00633398, ..., 0.00713041, 0.01512229,\n",
              "        0.31316936],\n",
              "       [0.9847292 , 0.00918466, 0.00462246, ..., 0.00684667, 0.02783707,\n",
              "        0.93259525]], dtype=float32)"
            ]
          },
          "execution_count": 63,
          "metadata": {},
          "output_type": "execute_result"
        }
      ],
      "source": [
        "y_pred"
      ]
    },
    {
      "cell_type": "code",
      "execution_count": null,
      "metadata": {
        "colab": {
          "base_uri": "https://localhost:8080/"
        },
        "id": "eBlyjehx5fjB",
        "outputId": "60f476ed-3802-4297-c575-539cab0b783b"
      },
      "outputs": [
        {
          "data": {
            "text/plain": [
              "<tf.Tensor: shape=(10, 10), dtype=int32, numpy=\n",
              "array([[735,   0,   0,   2,   0,  10,   6,   0,   0,   6],\n",
              "       [  0,   0,   0,   0,   0,   0,   0,   0,   0,   0],\n",
              "       [  0,   0,   0,   0,   0,   0,   0,   0,   0,   0],\n",
              "       [ 19,   0,   0, 669,   0,  50,   4,   0,   0,  17],\n",
              "       [  0,   0,   0,   0,   0,   0,   0,   0,   0,   0],\n",
              "       [ 21,   0,   0,  50,   0, 657,  21,   0,   0,  10],\n",
              "       [ 10,   0,   0,   5,   0,  17, 724,   0,   0,   3],\n",
              "       [  0,   0,   0,   0,   0,   0,   0,   0,   0,   0],\n",
              "       [  0,   0,   0,   0,   0,   0,   0,   0,   0,   0],\n",
              "       [  9,   0,   0,  21,   0,   5,   0,   0,   0, 724]], dtype=int32)>"
            ]
          },
          "execution_count": 64,
          "metadata": {},
          "output_type": "execute_result"
        }
      ],
      "source": [
        "cm = tf.math.confusion_matrix(labels=Y_Test,predictions=pred_out)\n",
        "cm"
      ]
    },
    {
      "cell_type": "code",
      "execution_count": null,
      "metadata": {
        "colab": {
          "base_uri": "https://localhost:8080/",
          "height": 460
        },
        "id": "0DgKQ-3L5fcY",
        "outputId": "1a07a858-3c4a-4721-ac70-7f586cfb7752"
      },
      "outputs": [
        {
          "data": {
            "text/plain": [
              "Text(69.0, 0.5, 'Truth')"
            ]
          },
          "execution_count": 65,
          "metadata": {},
          "output_type": "execute_result"
        },
        {
          "data": {
            "image/png": "[encoded data removed]",
            "text/plain": [
              "<Figure size 720x504 with 2 Axes>"
            ]
          },
          "metadata": {
            "needs_background": "light"
          },
          "output_type": "display_data"
        }
      ],
      "source": [
        "plt.figure(figsize = (10,7))\n",
        "sn.heatmap(cm, annot=True, fmt='d')\n",
        "plt.xlabel('Predicted')\n",
        "plt.ylabel('Truth')"
      ]
    },
    {
      "cell_type": "code",
      "execution_count": null,
      "metadata": {
        "id": "X4u-1-Rp5fWv"
      },
      "outputs": [],
      "source": []
    },
    {
      "cell_type": "code",
      "execution_count": null,
      "metadata": {
        "id": "zIAPR2tH5fPr"
      },
      "outputs": [],
      "source": []
    },
    {
      "cell_type": "code",
      "execution_count": null,
      "metadata": {
        "id": "hXcJAGkiSLnw"
      },
      "outputs": [],
      "source": []
    },
    {
      "cell_type": "markdown",
      "metadata": {
        "id": "CIPiqZnu5gTH"
      },
      "source": [
        "# **Autoencoder with 3 hidden Layer.**"
      ]
    },
    {
      "cell_type": "code",
      "execution_count": null,
      "metadata": {
        "colab": {
          "base_uri": "https://localhost:8080/"
        },
        "id": "mfP20nKy5cGb",
        "outputId": "5db76111-1de5-4cbe-f081-9a2633b39d4c"
      },
      "outputs": [
        {
          "name": "stdout",
          "output_type": "stream",
          "text": [
            "Epoch 1/50\n",
            "356/356 [==============================] - 3s 8ms/step - loss: 0.0651 - val_loss: 0.0537\n",
            "Epoch 2/50\n",
            "356/356 [==============================] - 3s 7ms/step - loss: 0.0463 - val_loss: 0.0418\n",
            "Epoch 3/50\n",
            "356/356 [==============================] - 3s 8ms/step - loss: 0.0390 - val_loss: 0.0373\n",
            "Epoch 4/50\n",
            "356/356 [==============================] - 3s 9ms/step - loss: 0.0347 - val_loss: 0.0330\n",
            "Epoch 5/50\n",
            "356/356 [==============================] - 3s 8ms/step - loss: 0.0310 - val_loss: 0.0295\n",
            "Epoch 6/50\n",
            "356/356 [==============================] - 3s 7ms/step - loss: 0.0279 - val_loss: 0.0267\n",
            "Epoch 7/50\n",
            "356/356 [==============================] - 3s 7ms/step - loss: 0.0253 - val_loss: 0.0243\n",
            "Epoch 8/50\n",
            "356/356 [==============================] - 2s 7ms/step - loss: 0.0232 - val_loss: 0.0225\n",
            "Epoch 9/50\n",
            "356/356 [==============================] - 3s 8ms/step - loss: 0.0214 - val_loss: 0.0209\n",
            "Epoch 10/50\n",
            "356/356 [==============================] - 3s 9ms/step - loss: 0.0199 - val_loss: 0.0195\n",
            "Epoch 11/50\n",
            "356/356 [==============================] - 3s 8ms/step - loss: 0.0185 - val_loss: 0.0183\n",
            "Epoch 12/50\n",
            "356/356 [==============================] - 2s 7ms/step - loss: 0.0175 - val_loss: 0.0176\n",
            "Epoch 13/50\n",
            "356/356 [==============================] - 4s 11ms/step - loss: 0.0165 - val_loss: 0.0167\n",
            "Epoch 14/50\n",
            "356/356 [==============================] - 3s 9ms/step - loss: 0.0157 - val_loss: 0.0158\n",
            "Epoch 15/50\n",
            "356/356 [==============================] - 3s 8ms/step - loss: 0.0150 - val_loss: 0.0152\n",
            "Epoch 16/50\n",
            "356/356 [==============================] - 3s 8ms/step - loss: 0.0143 - val_loss: 0.0146\n",
            "Epoch 17/50\n",
            "356/356 [==============================] - 3s 7ms/step - loss: 0.0137 - val_loss: 0.0140\n",
            "Epoch 18/50\n",
            "356/356 [==============================] - 3s 7ms/step - loss: 0.0131 - val_loss: 0.0136\n",
            "Epoch 19/50\n",
            "356/356 [==============================] - 3s 8ms/step - loss: 0.0127 - val_loss: 0.0131\n",
            "Epoch 20/50\n",
            "356/356 [==============================] - 3s 7ms/step - loss: 0.0122 - val_loss: 0.0126\n",
            "Epoch 21/50\n",
            "356/356 [==============================] - 3s 7ms/step - loss: 0.0118 - val_loss: 0.0124\n",
            "Epoch 22/50\n",
            "356/356 [==============================] - 3s 8ms/step - loss: 0.0114 - val_loss: 0.0120\n",
            "Epoch 23/50\n",
            "356/356 [==============================] - 3s 8ms/step - loss: 0.0111 - val_loss: 0.0118\n",
            "Epoch 24/50\n",
            "356/356 [==============================] - 2s 7ms/step - loss: 0.0108 - val_loss: 0.0114\n",
            "Epoch 25/50\n",
            "356/356 [==============================] - 3s 7ms/step - loss: 0.0106 - val_loss: 0.0113\n",
            "Epoch 26/50\n",
            "356/356 [==============================] - 3s 7ms/step - loss: 0.0103 - val_loss: 0.0111\n",
            "Epoch 27/50\n",
            "356/356 [==============================] - 2s 7ms/step - loss: 0.0101 - val_loss: 0.0108\n",
            "Epoch 28/50\n",
            "356/356 [==============================] - 3s 7ms/step - loss: 0.0098 - val_loss: 0.0106\n",
            "Epoch 29/50\n",
            "356/356 [==============================] - 3s 7ms/step - loss: 0.0096 - val_loss: 0.0105\n"
          ]
        }
      ],
      "source": [
        "autoencoder = Sequential()\n",
        "autoencoder.add(Dense(300,  activation='sigmoid', input_shape=(784,)))\n",
        "autoencoder.add(Dense(50,    activation='sigmoid', name=\"bottleneck\"))\n",
        "autoencoder.add(Dense(300,  activation='sigmoid'))\n",
        "autoencoder.add(Dense(784,  activation='sigmoid'))\n",
        "autoencoder.compile(loss='mean_squared_error', optimizer = 'adam')\n",
        "\n",
        "early_stopping = callbacks.EarlyStopping(\n",
        "    min_delta=10E-4, # difference between average error of successive epochs fall below a threshold 10-4\n",
        "    patience=5, # how many epochs to wait before stopping\n",
        "    restore_best_weights=True,\n",
        ")\n",
        "trained_model = autoencoder.fit(X_Train, X_Train, batch_size=32, epochs=50, verbose=1, validation_data=(X_Val, X_Val),callbacks=[early_stopping])\n",
        "\n",
        "\n",
        "encoder = Model(autoencoder.input, autoencoder.get_layer('bottleneck').output)\n",
        "Train_encoded_data = encoder.predict(X_Train)  # bottleneck representation\n",
        "Val_encoded_data = encoder.predict(X_Val)\n",
        "Test_encoded_data =  encoder.predict(X_Test)\n",
        "decoded_output = autoencoder.predict(X_Train)        # reconstruction\n",
        "encoding_dim = 50\n",
        "\n",
        "# return the decoder\n",
        "encoded_input = Input(shape=(encoding_dim,))\n",
        "decoder = autoencoder.layers[-2](encoded_input)\n",
        "decoder = autoencoder.layers[-1](decoder)\n",
        "decoder = Model(encoded_input, decoder)"
      ]
    },
    {
      "cell_type": "code",
      "execution_count": null,
      "metadata": {
        "colab": {
          "base_uri": "https://localhost:8080/",
          "height": 282
        },
        "id": "xXYwgYLy_lz7",
        "outputId": "d9920e8d-af77-480a-8270-b37b11fd2bb3"
      },
      "outputs": [
        {
          "name": "stdout",
          "output_type": "stream",
          "text": [
            "Minimum Validation Loss:- 0.01049319002777338\n"
          ]
        },
        {
          "data": {
            "image/png": "[encoded data removed]",
            "text/plain": [
              "<Figure size 432x288 with 1 Axes>"
            ]
          },
          "metadata": {
            "needs_background": "light"
          },
          "output_type": "display_data"
        }
      ],
      "source": [
        "history_df = pd.DataFrame(trained_model.history)\n",
        "# Start the plot at epoch 5\n",
        "history_df.loc[:, ['loss', 'val_loss']].plot()\n",
        "# history_df.loc[:, ['accuracy', 'val_accuracy']].plot()\n",
        "\n",
        "print(\"Minimum Validation Loss:-\",history_df['val_loss'].min())"
      ]
    },
    {
      "cell_type": "code",
      "execution_count": null,
      "metadata": {
        "id": "L2J7KPF7Bji9"
      },
      "outputs": [],
      "source": [
        "i=decoded_output.reshape(11385,28,28)"
      ]
    },
    {
      "cell_type": "code",
      "execution_count": null,
      "metadata": {
        "colab": {
          "base_uri": "https://localhost:8080/",
          "height": 282
        },
        "id": "2EITNig5Bnu9",
        "outputId": "66aba6ac-8eaa-4451-80d7-774a0a374bb5"
      },
      "outputs": [
        {
          "data": {
            "text/plain": [
              "<matplotlib.image.AxesImage at 0x7fc879d69590>"
            ]
          },
          "execution_count": 70,
          "metadata": {},
          "output_type": "execute_result"
        },
        {
          "data": {
            "image/png": "[encoded data removed]",
            "text/plain": [
              "<Figure size 432x288 with 1 Axes>"
            ]
          },
          "metadata": {
            "needs_background": "light"
          },
          "output_type": "display_data"
        }
      ],
      "source": [
        "import matplotlib.pyplot as plt\n",
        "plt.imshow(i[0],cmap='gray')"
      ]
    },
    {
      "cell_type": "code",
      "execution_count": null,
      "metadata": {
        "colab": {
          "base_uri": "https://localhost:8080/",
          "height": 282
        },
        "id": "P35Vc_hTBr2a",
        "outputId": "93e491f0-e4b8-43d0-e7c1-94e45b11b9a6"
      },
      "outputs": [
        {
          "data": {
            "text/plain": [
              "<matplotlib.image.AxesImage at 0x7fc879d52210>"
            ]
          },
          "execution_count": 71,
          "metadata": {},
          "output_type": "execute_result"
        },
        {
          "data": {
            "image/png": "[encoded data removed]",
            "text/plain": [
              "<Figure size 432x288 with 1 Axes>"
            ]
          },
          "metadata": {
            "needs_background": "light"
          },
          "output_type": "display_data"
        }
      ],
      "source": [
        "ti=X_Train.reshape(11385,28,28)\n",
        "plt.imshow(ti[0],cmap='gray')"
      ]
    },
    {
      "cell_type": "code",
      "execution_count": null,
      "metadata": {
        "id": "zR_9dYJJB2C7"
      },
      "outputs": [],
      "source": []
    },
    {
      "cell_type": "markdown",
      "metadata": {
        "id": "GD_9zrfD_oQ0"
      },
      "source": [
        "# FCNN For Compressed data Classification."
      ]
    },
    {
      "cell_type": "code",
      "execution_count": null,
      "metadata": {
        "colab": {
          "base_uri": "https://localhost:8080/"
        },
        "id": "GwVwae3V_oQ8",
        "outputId": "923c542f-3d2f-401c-ae2d-9f345ec354a5"
      },
      "outputs": [
        {
          "data": {
            "text/plain": [
              "(11385, 50)"
            ]
          },
          "execution_count": 72,
          "metadata": {},
          "output_type": "execute_result"
        }
      ],
      "source": [
        "Train_encoded_data.shape"
      ]
    },
    {
      "cell_type": "code",
      "execution_count": null,
      "metadata": {
        "id": "u4bjAiO-_oQ8"
      },
      "outputs": [],
      "source": [
        "model = keras.Sequential([\n",
        "    keras.layers.Dense(400, input_shape=(50,), activation='sigmoid'),\n",
        "    keras.layers.Dense(300, activation='sigmoid'),\n",
        "    keras.layers.Dense(200, activation='sigmoid'),\n",
        "    keras.layers.Dense(10, activation='sigmoid')\n",
        "])\n",
        "\n",
        "model.compile(optimizer='adam',\n",
        "              loss='sparse_categorical_crossentropy',\n",
        "              metrics=['accuracy'])"
      ]
    },
    {
      "cell_type": "code",
      "execution_count": null,
      "metadata": {
        "colab": {
          "base_uri": "https://localhost:8080/"
        },
        "id": "KSYmEIoy_oQ8",
        "outputId": "c8758c37-2f11-4f8f-ed1e-527d23fcb26c"
      },
      "outputs": [
        {
          "name": "stdout",
          "output_type": "stream",
          "text": [
            "Epoch 1/100\n",
            "356/356 [==============================] - 14s 6ms/step - loss: 0.9076 - accuracy: 0.6314 - val_loss: 0.3847 - val_accuracy: 0.8801\n",
            "Epoch 2/100\n",
            "356/356 [==============================] - 2s 5ms/step - loss: 0.2805 - accuracy: 0.9069 - val_loss: 0.2897 - val_accuracy: 0.9028\n",
            "Epoch 3/100\n",
            "356/356 [==============================] - 2s 5ms/step - loss: 0.2502 - accuracy: 0.9132 - val_loss: 0.2482 - val_accuracy: 0.9157\n",
            "Epoch 4/100\n",
            "356/356 [==============================] - 2s 4ms/step - loss: 0.2326 - accuracy: 0.9225 - val_loss: 0.2565 - val_accuracy: 0.9133\n"
          ]
        }
      ],
      "source": [
        "from tensorflow.keras import layers, callbacks\n",
        "early_stopping = callbacks.EarlyStopping(\n",
        "    min_delta=10E-4, # minimium amount of change to count as an improvement\n",
        "    patience=1, # how many epochs to wait before stopping\n",
        "    restore_best_weights=True,\n",
        ")\n",
        "\n",
        "\n",
        "history = model.fit(\n",
        "    Train_encoded_data, Y_Train,\n",
        "    validation_data=(Val_encoded_data, Y_Val),\n",
        "    epochs=100,\n",
        "    callbacks=[early_stopping]\n",
        ")"
      ]
    },
    {
      "cell_type": "code",
      "execution_count": null,
      "metadata": {
        "colab": {
          "base_uri": "https://localhost:8080/",
          "height": 548
        },
        "id": "RWz_09gM_oQ9",
        "outputId": "694aa868-308b-47df-d085-ebaefc9c5ce0"
      },
      "outputs": [
        {
          "name": "stdout",
          "output_type": "stream",
          "text": [
            "Best Validation Loss: 0.2482\n",
            "Best Validation Accuracy: 0.9157\n"
          ]
        },
        {
          "data": {
            "image/png": "[encoded data removed]",
            "text/plain": [
              "<Figure size 432x288 with 1 Axes>"
            ]
          },
          "metadata": {
            "needs_background": "light"
          },
          "output_type": "display_data"
        },
        {
          "data": {
            "image/png": "[encoded data removed]",
            "text/plain": [
              "<Figure size 432x288 with 1 Axes>"
            ]
          },
          "metadata": {
            "needs_background": "light"
          },
          "output_type": "display_data"
        }
      ],
      "source": [
        "history_df = pd.DataFrame(history.history)\n",
        "# Start the plot at epoch 5\n",
        "history_df.loc[:, ['loss', 'val_loss']].plot()\n",
        "history_df.loc[:, ['accuracy', 'val_accuracy']].plot()\n",
        "\n",
        "print((\"Best Validation Loss: {:0.4f}\" +\\\n",
        "      \"\\nBest Validation Accuracy: {:0.4f}\")\\\n",
        "      .format(history_df['val_loss'].min(), \n",
        "              history_df['val_accuracy'].max()))"
      ]
    },
    {
      "cell_type": "code",
      "execution_count": null,
      "metadata": {
        "colab": {
          "base_uri": "https://localhost:8080/"
        },
        "id": "n59I7s_G_oQ9",
        "outputId": "55b34bb0-5ac8-407b-d3b7-c26f9935999f"
      },
      "outputs": [
        {
          "name": "stdout",
          "output_type": "stream",
          "text": [
            "119/119 [==============================] - 0s 2ms/step - loss: 0.2368 - accuracy: 0.9207\n"
          ]
        },
        {
          "data": {
            "text/plain": [
              "[0.23684906959533691, 0.9206851124763489]"
            ]
          },
          "execution_count": 78,
          "metadata": {},
          "output_type": "execute_result"
        }
      ],
      "source": [
        "model.evaluate(Test_encoded_data, Y_Test)"
      ]
    },
    {
      "cell_type": "code",
      "execution_count": null,
      "metadata": {
        "id": "Wbyn5ZyW_oQ9"
      },
      "outputs": [],
      "source": [
        "y_pred = model.predict(Test_encoded_data)"
      ]
    },
    {
      "cell_type": "code",
      "execution_count": null,
      "metadata": {
        "id": "_4RUflyb_oQ9"
      },
      "outputs": [],
      "source": [
        "pred_out = []\n",
        "for dataPoint in y_pred:\n",
        "  pred_out.append(np.argmax(dataPoint))"
      ]
    },
    {
      "cell_type": "code",
      "execution_count": null,
      "metadata": {
        "colab": {
          "base_uri": "https://localhost:8080/"
        },
        "id": "M00ecLiK_oQ9",
        "outputId": "551a9659-d0da-47f1-9331-dc14251f2f20"
      },
      "outputs": [
        {
          "data": {
            "text/plain": [
              "array([[0.964736  , 0.0115141 , 0.00531128, ..., 0.01545864, 0.0042007 ,\n",
              "        0.2127367 ],\n",
              "       [0.04968616, 0.00661924, 0.00482544, ..., 0.0097675 , 0.00718996,\n",
              "        0.9970619 ],\n",
              "       [0.06715384, 0.00617328, 0.00565928, ..., 0.01435319, 0.00580367,\n",
              "        0.9992162 ],\n",
              "       ...,\n",
              "       [0.738583  , 0.01025027, 0.0048328 , ..., 0.00907144, 0.00616518,\n",
              "        0.3708657 ],\n",
              "       [0.72883594, 0.01055765, 0.00653785, ..., 0.01689881, 0.00402227,\n",
              "        0.17091578],\n",
              "       [0.99263215, 0.01072493, 0.00744033, ..., 0.01410455, 0.0039781 ,\n",
              "        0.4506919 ]], dtype=float32)"
            ]
          },
          "execution_count": 81,
          "metadata": {},
          "output_type": "execute_result"
        }
      ],
      "source": [
        "y_pred"
      ]
    },
    {
      "cell_type": "code",
      "execution_count": null,
      "metadata": {
        "colab": {
          "base_uri": "https://localhost:8080/"
        },
        "id": "__sQJSKl_oQ9",
        "outputId": "84c6afd2-a974-43b1-d2a6-7451e8640cf6"
      },
      "outputs": [
        {
          "data": {
            "text/plain": [
              "<tf.Tensor: shape=(10, 10), dtype=int32, numpy=\n",
              "array([[740,   0,   0,   2,   0,   7,   7,   0,   0,   3],\n",
              "       [  0,   0,   0,   0,   0,   0,   0,   0,   0,   0],\n",
              "       [  0,   0,   0,   0,   0,   0,   0,   0,   0,   0],\n",
              "       [ 14,   0,   0, 690,   0,  44,   5,   0,   0,   6],\n",
              "       [  0,   0,   0,   0,   0,   0,   0,   0,   0,   0],\n",
              "       [ 25,   0,   0,  57,   0, 657,  18,   0,   0,   2],\n",
              "       [ 10,   0,   0,   9,   0,  18, 722,   0,   0,   0],\n",
              "       [  0,   0,   0,   0,   0,   0,   0,   0,   0,   0],\n",
              "       [  0,   0,   0,   0,   0,   0,   0,   0,   0,   0],\n",
              "       [ 17,   0,   0,  38,   0,  19,   0,   0,   0, 685]], dtype=int32)>"
            ]
          },
          "execution_count": 82,
          "metadata": {},
          "output_type": "execute_result"
        }
      ],
      "source": [
        "cm = tf.math.confusion_matrix(labels=Y_Test,predictions=pred_out)\n",
        "cm"
      ]
    },
    {
      "cell_type": "code",
      "execution_count": null,
      "metadata": {
        "colab": {
          "base_uri": "https://localhost:8080/",
          "height": 460
        },
        "id": "MgitzhAJ_oQ9",
        "outputId": "05436ef3-b5ae-4309-c675-89d4db890d7d"
      },
      "outputs": [
        {
          "data": {
            "text/plain": [
              "Text(69.0, 0.5, 'Actual')"
            ]
          },
          "execution_count": 85,
          "metadata": {},
          "output_type": "execute_result"
        },
        {
          "data": {
            "image/png": "[encoded data removed]",
            "text/plain": [
              "<Figure size 720x504 with 2 Axes>"
            ]
          },
          "metadata": {
            "needs_background": "light"
          },
          "output_type": "display_data"
        }
      ],
      "source": [
        "plt.figure(figsize = (10,7))\n",
        "sn.heatmap(cm, annot=True, fmt='d')\n",
        "plt.xlabel('Predicted')\n",
        "plt.ylabel('Actual')"
      ]
    },
    {
      "cell_type": "code",
      "execution_count": null,
      "metadata": {
        "id": "FNuX20uCArmD"
      },
      "outputs": [],
      "source": []
    },
    {
      "cell_type": "markdown",
      "metadata": {
        "id": "yU6IyqPEDzB3"
      },
      "source": [
        "# B. Denoising Autoencoder"
      ]
    },
    {
      "cell_type": "code",
      "execution_count": null,
      "metadata": {
        "colab": {
          "base_uri": "https://localhost:8080/",
          "height": 282
        },
        "id": "0CiOmaSHD6Ly",
        "outputId": "9cbc4366-9471-4299-b21b-0ce88bd29525"
      },
      "outputs": [
        {
          "data": {
            "text/plain": [
              "<matplotlib.image.AxesImage at 0x7fc88debbdd0>"
            ]
          },
          "execution_count": 86,
          "metadata": {},
          "output_type": "execute_result"
        },
        {
          "data": {
            "image/png": "[encoded data removed]",
            "text/plain": [
              "<Figure size 432x288 with 1 Axes>"
            ]
          },
          "metadata": {
            "needs_background": "light"
          },
          "output_type": "display_data"
        }
      ],
      "source": [
        "noise_factor = 0.2\n",
        "X_Train_noisy = X_Train + noise_factor * np.random.normal(loc=0.0, scale=1.0, size=X_Train.shape) \n",
        "X_Test_noisy = X_Test + noise_factor * np.random.normal(loc=0.0, scale=1.0, size=X_Test.shape)\n",
        "X_Val_noisy = X_Val + noise_factor * np.random.normal(loc=0.0, scale=1.0, size=X_Val.shape)\n",
        "\n",
        "X_Train_noisy = np.clip(X_Train_noisy, 0., 1.)\n",
        "X_Test_noisy = np.clip(X_Test_noisy, 0., 1.)\n",
        "X_Val_noisy = np.clip(X_Val_noisy, 0., 1.)\n",
        "\n",
        "#Print one image to see the noise\n",
        "plt.imshow(X_Train_noisy[0].reshape(28, 28))"
      ]
    },
    {
      "cell_type": "code",
      "execution_count": null,
      "metadata": {
        "colab": {
          "base_uri": "https://localhost:8080/"
        },
        "id": "4tmqmMkRbe3e",
        "outputId": "6d67f378-7b4f-4e63-b6a5-7aa26d97323a"
      },
      "outputs": [
        {
          "data": {
            "text/plain": [
              "(3795, 784)"
            ]
          },
          "execution_count": 87,
          "metadata": {},
          "output_type": "execute_result"
        }
      ],
      "source": [
        "X_Val_noisy.shape"
      ]
    },
    {
      "cell_type": "code",
      "execution_count": null,
      "metadata": {
        "colab": {
          "base_uri": "https://localhost:8080/"
        },
        "id": "SXfw0jTpWIkQ",
        "outputId": "997692e9-08ab-448b-bf4f-30ad296aa67d"
      },
      "outputs": [
        {
          "name": "stdout",
          "output_type": "stream",
          "text": [
            "Epoch 1/50\n",
            "356/356 [==============================] - 2s 4ms/step - loss: 0.0703 - val_loss: 0.0646\n",
            "Epoch 2/50\n",
            "356/356 [==============================] - 1s 4ms/step - loss: 0.0620 - val_loss: 0.0592\n",
            "Epoch 3/50\n",
            "356/356 [==============================] - 2s 4ms/step - loss: 0.0564 - val_loss: 0.0541\n",
            "Epoch 4/50\n",
            "356/356 [==============================] - 1s 3ms/step - loss: 0.0522 - val_loss: 0.0506\n",
            "Epoch 5/50\n",
            "356/356 [==============================] - 1s 4ms/step - loss: 0.0491 - val_loss: 0.0480\n",
            "Epoch 6/50\n",
            "356/356 [==============================] - 1s 3ms/step - loss: 0.0467 - val_loss: 0.0460\n",
            "Epoch 7/50\n",
            "356/356 [==============================] - 1s 3ms/step - loss: 0.0448 - val_loss: 0.0442\n",
            "Epoch 8/50\n",
            "356/356 [==============================] - 1s 3ms/step - loss: 0.0431 - val_loss: 0.0426\n",
            "Epoch 9/50\n",
            "356/356 [==============================] - 1s 3ms/step - loss: 0.0415 - val_loss: 0.0409\n",
            "Epoch 10/50\n",
            "356/356 [==============================] - 1s 3ms/step - loss: 0.0396 - val_loss: 0.0390\n",
            "Epoch 11/50\n",
            "356/356 [==============================] - 1s 3ms/step - loss: 0.0379 - val_loss: 0.0376\n",
            "Epoch 12/50\n",
            "356/356 [==============================] - 1s 4ms/step - loss: 0.0366 - val_loss: 0.0363\n",
            "Epoch 13/50\n",
            "356/356 [==============================] - 1s 3ms/step - loss: 0.0354 - val_loss: 0.0352\n",
            "Epoch 14/50\n",
            "356/356 [==============================] - 1s 3ms/step - loss: 0.0345 - val_loss: 0.0344\n",
            "Epoch 15/50\n",
            "356/356 [==============================] - 1s 3ms/step - loss: 0.0336 - val_loss: 0.0336\n",
            "Epoch 16/50\n",
            "356/356 [==============================] - 1s 4ms/step - loss: 0.0328 - val_loss: 0.0329\n",
            "Epoch 17/50\n",
            "356/356 [==============================] - 1s 3ms/step - loss: 0.0321 - val_loss: 0.0322\n",
            "Epoch 18/50\n",
            "356/356 [==============================] - 1s 3ms/step - loss: 0.0314 - val_loss: 0.0316\n",
            "Epoch 19/50\n",
            "356/356 [==============================] - 1s 3ms/step - loss: 0.0308 - val_loss: 0.0309\n",
            "Epoch 20/50\n",
            "356/356 [==============================] - 1s 3ms/step - loss: 0.0302 - val_loss: 0.0304\n",
            "Epoch 21/50\n",
            "356/356 [==============================] - 1s 4ms/step - loss: 0.0297 - val_loss: 0.0299\n",
            "Epoch 22/50\n",
            "356/356 [==============================] - 1s 3ms/step - loss: 0.0291 - val_loss: 0.0293\n",
            "Epoch 23/50\n",
            "356/356 [==============================] - 1s 3ms/step - loss: 0.0286 - val_loss: 0.0288\n",
            "Epoch 24/50\n",
            "356/356 [==============================] - 1s 3ms/step - loss: 0.0281 - val_loss: 0.0283\n",
            "Epoch 25/50\n",
            "356/356 [==============================] - 1s 3ms/step - loss: 0.0276 - val_loss: 0.0278\n",
            "Epoch 26/50\n",
            "356/356 [==============================] - 1s 3ms/step - loss: 0.0272 - val_loss: 0.0274\n",
            "Epoch 27/50\n",
            "356/356 [==============================] - 1s 3ms/step - loss: 0.0267 - val_loss: 0.0270\n",
            "Epoch 28/50\n",
            "356/356 [==============================] - 1s 3ms/step - loss: 0.0263 - val_loss: 0.0266\n",
            "Epoch 29/50\n",
            "356/356 [==============================] - 1s 3ms/step - loss: 0.0260 - val_loss: 0.0263\n",
            "Epoch 30/50\n",
            "356/356 [==============================] - 1s 3ms/step - loss: 0.0256 - val_loss: 0.0259\n",
            "Epoch 31/50\n",
            "356/356 [==============================] - 1s 3ms/step - loss: 0.0253 - val_loss: 0.0256\n",
            "Epoch 32/50\n",
            "356/356 [==============================] - 1s 3ms/step - loss: 0.0250 - val_loss: 0.0254\n",
            "Epoch 33/50\n",
            "356/356 [==============================] - 1s 3ms/step - loss: 0.0248 - val_loss: 0.0252\n",
            "Epoch 34/50\n",
            "356/356 [==============================] - 1s 3ms/step - loss: 0.0246 - val_loss: 0.0250\n",
            "Epoch 35/50\n",
            "356/356 [==============================] - 1s 3ms/step - loss: 0.0244 - val_loss: 0.0248\n",
            "Epoch 36/50\n",
            "356/356 [==============================] - 2s 6ms/step - loss: 0.0242 - val_loss: 0.0246\n",
            "Epoch 37/50\n",
            "356/356 [==============================] - 1s 3ms/step - loss: 0.0240 - val_loss: 0.0244\n",
            "Epoch 38/50\n",
            "356/356 [==============================] - 1s 4ms/step - loss: 0.0239 - val_loss: 0.0243\n"
          ]
        }
      ],
      "source": [
        "autoencoder = Sequential()\n",
        "autoencoder.add(Dense(50,  activation='sigmoid',name=\"bottleneck\",input_shape=(784,)))\n",
        "autoencoder.add(Dense(784,  activation='sigmoid'))\n",
        "autoencoder.compile(loss='mean_squared_error', optimizer = 'adam')\n",
        "\n",
        "early_stopping = callbacks.EarlyStopping(\n",
        "    min_delta=10E-4, # difference between average error of successive epochs fall below a threshold 10-4\n",
        "    patience=5, # how many epochs to wait before stopping\n",
        "    restore_best_weights=True,\n",
        ")\n",
        "#Train Model\n",
        "trained_model = autoencoder.fit(X_Train_noisy, X_Train_noisy, batch_size=32, epochs=50, verbose=1, validation_data=(X_Val_noisy , X_Val_noisy ),callbacks=[early_stopping])\n",
        "\n",
        "\n",
        "encoder = Model(autoencoder.input, autoencoder.get_layer('bottleneck').output)\n",
        "Train_encoded_data = encoder.predict(X_Train_noisy)  # bottleneck representation\n",
        "Val_encoded_data = encoder.predict(X_Val_noisy )\n",
        "Test_encoded_data =  encoder.predict(X_Test)\n",
        "decoded_output = autoencoder.predict(X_Train_noisy)        # reconstruction\n",
        "encoding_dim = 50\n",
        "\n",
        "# return the decoder\n",
        "encoded_input = Input(shape=(encoding_dim,))\n",
        "decoder = autoencoder.layers[-1](encoded_input)\n",
        "decoder = Model(encoded_input, decoder)"
      ]
    },
    {
      "cell_type": "code",
      "execution_count": null,
      "metadata": {
        "colab": {
          "base_uri": "https://localhost:8080/"
        },
        "id": "xMj8dFIbW6gL",
        "outputId": "e80dade9-bffa-42c5-89c8-62d8e5cbf617"
      },
      "outputs": [
        {
          "data": {
            "text/plain": [
              "(11385, 50)"
            ]
          },
          "execution_count": 89,
          "metadata": {},
          "output_type": "execute_result"
        }
      ],
      "source": [
        "Train_encoded_data.shape"
      ]
    },
    {
      "cell_type": "code",
      "execution_count": null,
      "metadata": {
        "colab": {
          "base_uri": "https://localhost:8080/",
          "height": 282
        },
        "id": "pFhXKr8WXskV",
        "outputId": "96253f75-73dd-4d7b-b36d-c793f5b9a556"
      },
      "outputs": [
        {
          "data": {
            "text/plain": [
              "<matplotlib.image.AxesImage at 0x7fc88b4af0d0>"
            ]
          },
          "execution_count": 90,
          "metadata": {},
          "output_type": "execute_result"
        },
        {
          "data": {
            "image/png": "[encoded data removed]",
            "text/plain": [
              "<Figure size 432x288 with 1 Axes>"
            ]
          },
          "metadata": {
            "needs_background": "light"
          },
          "output_type": "display_data"
        }
      ],
      "source": [
        "plt.imshow(decoded_output[0].reshape(28,28))"
      ]
    },
    {
      "cell_type": "code",
      "execution_count": null,
      "metadata": {
        "id": "bLNTSdqkX362"
      },
      "outputs": [],
      "source": []
    },
    {
      "cell_type": "code",
      "execution_count": null,
      "metadata": {
        "id": "oX7mutqaYvXm"
      },
      "outputs": [],
      "source": []
    },
    {
      "cell_type": "code",
      "execution_count": null,
      "metadata": {
        "id": "ckBU4HYcY5si"
      },
      "outputs": [],
      "source": []
    },
    {
      "cell_type": "code",
      "execution_count": null,
      "metadata": {
        "colab": {
          "base_uri": "https://localhost:8080/"
        },
        "id": "2GuHY_EZZPmW",
        "outputId": "b078bb92-449a-42ed-e8fc-311e48ec0419"
      },
      "outputs": [
        {
          "data": {
            "text/plain": [
              "(3795, 784)"
            ]
          },
          "execution_count": 91,
          "metadata": {},
          "output_type": "execute_result"
        }
      ],
      "source": [
        "X_Val.shape"
      ]
    },
    {
      "cell_type": "code",
      "execution_count": null,
      "metadata": {
        "id": "tTyOvxg7ZPmX"
      },
      "outputs": [],
      "source": [
        "model = keras.Sequential([\n",
        "    keras.layers.Dense(400, input_shape=(50,), activation='sigmoid'),\n",
        "    keras.layers.Dense(300, activation='sigmoid'),\n",
        "    keras.layers.Dense(200, activation='sigmoid'),\n",
        "    keras.layers.Dense(10, activation='sigmoid')\n",
        "])\n",
        "\n",
        "model.compile(optimizer='adam',\n",
        "              loss='sparse_categorical_crossentropy',\n",
        "              metrics=['accuracy'])"
      ]
    },
    {
      "cell_type": "code",
      "execution_count": null,
      "metadata": {
        "colab": {
          "base_uri": "https://localhost:8080/"
        },
        "id": "FdqJrNiyZPmY",
        "outputId": "003f5cbc-fc15-4250-ddbc-301a08179c7f"
      },
      "outputs": [
        {
          "name": "stdout",
          "output_type": "stream",
          "text": [
            "Epoch 1/100\n",
            "356/356 [==============================] - 2s 5ms/step - loss: 1.1725 - accuracy: 0.5080 - val_loss: 0.4193 - val_accuracy: 0.8796\n",
            "Epoch 2/100\n",
            "356/356 [==============================] - 2s 5ms/step - loss: 0.2940 - accuracy: 0.9068 - val_loss: 0.2582 - val_accuracy: 0.9144\n",
            "Epoch 3/100\n",
            "356/356 [==============================] - 2s 5ms/step - loss: 0.2403 - accuracy: 0.9194 - val_loss: 0.2464 - val_accuracy: 0.9167\n",
            "Epoch 4/100\n",
            "356/356 [==============================] - 2s 4ms/step - loss: 0.2249 - accuracy: 0.9225 - val_loss: 0.2359 - val_accuracy: 0.9202\n",
            "Epoch 5/100\n",
            "356/356 [==============================] - 3s 7ms/step - loss: 0.2221 - accuracy: 0.9231 - val_loss: 0.2181 - val_accuracy: 0.9236\n",
            "Epoch 6/100\n",
            "356/356 [==============================] - 2s 4ms/step - loss: 0.2168 - accuracy: 0.9267 - val_loss: 0.2466 - val_accuracy: 0.9183\n"
          ]
        }
      ],
      "source": [
        "from tensorflow.keras import layers, callbacks\n",
        "early_stopping = callbacks.EarlyStopping(\n",
        "    min_delta=10E-4, # minimium amount of change to count as an improvement\n",
        "    patience=1, # how many epochs to wait before stopping\n",
        "    restore_best_weights=True,\n",
        ")\n",
        "\n",
        "\n",
        "history = model.fit(\n",
        "    Train_encoded_data, Y_Train,\n",
        "    validation_data=(Val_encoded_data, Y_Val),\n",
        "    epochs=100,\n",
        "    callbacks=[early_stopping]\n",
        ")"
      ]
    },
    {
      "cell_type": "code",
      "execution_count": null,
      "metadata": {
        "colab": {
          "base_uri": "https://localhost:8080/",
          "height": 548
        },
        "id": "vDC8EFOHZPmY",
        "outputId": "fbdb89be-cdce-47a4-b265-ee9b6a118e9d"
      },
      "outputs": [
        {
          "name": "stdout",
          "output_type": "stream",
          "text": [
            "Best Validation Loss: 0.2181\n",
            "Best Validation Accuracy: 0.9236\n"
          ]
        },
        {
          "data": {
            "image/png": "[encoded data removed]",
            "text/plain": [
              "<Figure size 432x288 with 1 Axes>"
            ]
          },
          "metadata": {
            "needs_background": "light"
          },
          "output_type": "display_data"
        },
        {
          "data": {
            "image/png": "[encoded data removed]",
            "text/plain": [
              "<Figure size 432x288 with 1 Axes>"
            ]
          },
          "metadata": {
            "needs_background": "light"
          },
          "output_type": "display_data"
        }
      ],
      "source": [
        "history_df = pd.DataFrame(history.history)\n",
        "# Start the plot at epoch 5\n",
        "history_df.loc[:, ['loss', 'val_loss']].plot()\n",
        "history_df.loc[:, ['accuracy', 'val_accuracy']].plot()\n",
        "\n",
        "print((\"Best Validation Loss: {:0.4f}\" +\\\n",
        "      \"\\nBest Validation Accuracy: {:0.4f}\")\\\n",
        "      .format(history_df['val_loss'].min(), \n",
        "              history_df['val_accuracy'].max()))"
      ]
    },
    {
      "cell_type": "code",
      "execution_count": null,
      "metadata": {
        "colab": {
          "base_uri": "https://localhost:8080/"
        },
        "id": "VinzwtJFZPmZ",
        "outputId": "22611576-eed4-48e6-da04-e9d5efc8f344"
      },
      "outputs": [
        {
          "name": "stdout",
          "output_type": "stream",
          "text": [
            "119/119 [==============================] - 0s 2ms/step - loss: 0.1985 - accuracy: 0.9394\n"
          ]
        },
        {
          "data": {
            "text/plain": [
              "[0.19854658842086792, 0.939393937587738]"
            ]
          },
          "execution_count": 98,
          "metadata": {},
          "output_type": "execute_result"
        }
      ],
      "source": [
        "model.evaluate(Test_encoded_data, Y_Test)"
      ]
    },
    {
      "cell_type": "code",
      "execution_count": null,
      "metadata": {
        "id": "PmhY1Ez4ZPmZ"
      },
      "outputs": [],
      "source": [
        "y_pred = model.predict(Test_encoded_data)"
      ]
    },
    {
      "cell_type": "code",
      "execution_count": null,
      "metadata": {
        "id": "brsXctxxZPmZ"
      },
      "outputs": [],
      "source": [
        "pred_out = []\n",
        "for dataPoint in y_pred:\n",
        "  pred_out.append(np.argmax(dataPoint))"
      ]
    },
    {
      "cell_type": "code",
      "execution_count": null,
      "metadata": {
        "colab": {
          "base_uri": "https://localhost:8080/"
        },
        "id": "2T36WIrbZPmZ",
        "outputId": "66de2e04-9a78-4f92-b2dd-87cc26f3bad5"
      },
      "outputs": [
        {
          "data": {
            "text/plain": [
              "array([[0.8173108 , 0.00641963, 0.00581396, ..., 0.00617272, 0.0058212 ,\n",
              "        0.3374779 ],\n",
              "       [0.00387836, 0.00561434, 0.00490585, ..., 0.00458136, 0.00278315,\n",
              "        0.9979049 ],\n",
              "       [0.0030199 , 0.00491229, 0.00422442, ..., 0.00427926, 0.00383121,\n",
              "        0.9997864 ],\n",
              "       ...,\n",
              "       [0.69457865, 0.00513032, 0.00391424, ..., 0.00325513, 0.00314561,\n",
              "        0.8287381 ],\n",
              "       [0.6396631 , 0.00797096, 0.0040215 , ..., 0.00154686, 0.00502187,\n",
              "        0.1836218 ],\n",
              "       [0.9965647 , 0.00781038, 0.00419089, ..., 0.00187781, 0.00867125,\n",
              "        0.81216013]], dtype=float32)"
            ]
          },
          "execution_count": 102,
          "metadata": {},
          "output_type": "execute_result"
        }
      ],
      "source": [
        "y_pred"
      ]
    },
    {
      "cell_type": "code",
      "execution_count": null,
      "metadata": {
        "colab": {
          "base_uri": "https://localhost:8080/"
        },
        "id": "ih4BmkBZZPma",
        "outputId": "929d09ed-386a-418d-e974-c56dee943a25"
      },
      "outputs": [
        {
          "data": {
            "text/plain": [
              "<tf.Tensor: shape=(10, 10), dtype=int32, numpy=\n",
              "array([[745,   0,   0,   3,   0,   4,   5,   0,   0,   2],\n",
              "       [  0,   0,   0,   0,   0,   0,   0,   0,   0,   0],\n",
              "       [  0,   0,   0,   0,   0,   0,   0,   0,   0,   0],\n",
              "       [  7,   0,   0, 680,   0,  50,   6,   0,   0,  16],\n",
              "       [  0,   0,   0,   0,   0,   0,   0,   0,   0,   0],\n",
              "       [ 17,   0,   0,  28,   0, 692,  16,   0,   0,   6],\n",
              "       [  7,   0,   0,   1,   0,  15, 736,   0,   0,   0],\n",
              "       [  0,   0,   0,   0,   0,   0,   0,   0,   0,   0],\n",
              "       [  0,   0,   0,   0,   0,   0,   0,   0,   0,   0],\n",
              "       [ 15,   0,   0,  19,   0,  11,   2,   0,   0, 712]], dtype=int32)>"
            ]
          },
          "execution_count": 103,
          "metadata": {},
          "output_type": "execute_result"
        }
      ],
      "source": [
        "cm = tf.math.confusion_matrix(labels=Y_Test,predictions=pred_out)\n",
        "cm"
      ]
    },
    {
      "cell_type": "code",
      "execution_count": null,
      "metadata": {
        "colab": {
          "base_uri": "https://localhost:8080/",
          "height": 460
        },
        "id": "hTlT8yF8ZPmb",
        "outputId": "30ac23c6-8618-4344-fcd7-69fd727c2951"
      },
      "outputs": [
        {
          "data": {
            "text/plain": [
              "Text(69.0, 0.5, 'Actual')"
            ]
          },
          "execution_count": 105,
          "metadata": {},
          "output_type": "execute_result"
        },
        {
          "data": {
            "image/png": "[encoded data removed]",
            "text/plain": [
              "<Figure size 720x504 with 2 Axes>"
            ]
          },
          "metadata": {
            "needs_background": "light"
          },
          "output_type": "display_data"
        }
      ],
      "source": [
        "plt.figure(figsize = (10,7))\n",
        "sn.heatmap(cm, annot=True, fmt='d')\n",
        "plt.xlabel('Predicted')\n",
        "plt.ylabel('Actual')"
      ]
    },
    {
      "cell_type": "code",
      "execution_count": null,
      "metadata": {
        "id": "M8X9LiI1b_Gg"
      },
      "outputs": [],
      "source": []
    },
    {
      "cell_type": "code",
      "execution_count": null,
      "metadata": {
        "id": "pwTbG43Gndne"
      },
      "outputs": [],
      "source": []
    },
    {
      "cell_type": "markdown",
      "metadata": {
        "id": "ge3nzfOdnivs"
      },
      "source": [
        "# Denoising For 40%"
      ]
    },
    {
      "cell_type": "code",
      "execution_count": null,
      "metadata": {
        "colab": {
          "base_uri": "https://localhost:8080/",
          "height": 282
        },
        "id": "_nXU2zKGneCZ",
        "outputId": "f6d7c976-a22c-4b91-9aac-2d54e03d62c1"
      },
      "outputs": [
        {
          "data": {
            "text/plain": [
              "<matplotlib.image.AxesImage at 0x7fc88aabff90>"
            ]
          },
          "execution_count": 106,
          "metadata": {},
          "output_type": "execute_result"
        },
        {
          "data": {
            "image/png": "[encoded data removed]",
            "text/plain": [
              "<Figure size 432x288 with 1 Axes>"
            ]
          },
          "metadata": {
            "needs_background": "light"
          },
          "output_type": "display_data"
        }
      ],
      "source": [
        "noise_factor = 0.4\n",
        "X_Train_noisy = X_Train + noise_factor * np.random.normal(loc=0.0, scale=1.0, size=X_Train.shape) \n",
        "X_Test_noisy = X_Test + noise_factor * np.random.normal(loc=0.0, scale=1.0, size=X_Test.shape)\n",
        "X_Val_noisy = X_Val + noise_factor * np.random.normal(loc=0.0, scale=1.0, size=X_Val.shape)\n",
        "\n",
        "X_Train_noisy = np.clip(X_Train_noisy, 0., 1.)\n",
        "X_Test_noisy = np.clip(X_Test_noisy, 0., 1.)\n",
        "X_Val_noisy = np.clip(X_Val_noisy, 0., 1.)\n",
        "\n",
        "#Print one image to see the noise\n",
        "plt.imshow(X_Train_noisy[0].reshape(28, 28))"
      ]
    },
    {
      "cell_type": "code",
      "execution_count": null,
      "metadata": {
        "colab": {
          "base_uri": "https://localhost:8080/"
        },
        "id": "SXyVB97VneCa",
        "outputId": "932d9a20-63df-4497-b212-9666b14af28a"
      },
      "outputs": [
        {
          "data": {
            "text/plain": [
              "(3795, 784)"
            ]
          },
          "execution_count": 107,
          "metadata": {},
          "output_type": "execute_result"
        }
      ],
      "source": [
        "X_Val_noisy.shape"
      ]
    },
    {
      "cell_type": "code",
      "execution_count": null,
      "metadata": {
        "colab": {
          "base_uri": "https://localhost:8080/"
        },
        "id": "-_eUoEvUneCb",
        "outputId": "336785a5-8348-4080-eb0a-287d9471ba32"
      },
      "outputs": [
        {
          "name": "stdout",
          "output_type": "stream",
          "text": [
            "Epoch 1/50\n",
            "356/356 [==============================] - 2s 3ms/step - loss: 0.0926 - val_loss: 0.0893\n",
            "Epoch 2/50\n",
            "356/356 [==============================] - 1s 3ms/step - loss: 0.0869 - val_loss: 0.0841\n",
            "Epoch 3/50\n",
            "356/356 [==============================] - 1s 3ms/step - loss: 0.0820 - val_loss: 0.0803\n",
            "Epoch 4/50\n",
            "356/356 [==============================] - 1s 3ms/step - loss: 0.0792 - val_loss: 0.0782\n",
            "Epoch 5/50\n",
            "356/356 [==============================] - 1s 3ms/step - loss: 0.0773 - val_loss: 0.0765\n",
            "Epoch 6/50\n",
            "356/356 [==============================] - 1s 3ms/step - loss: 0.0756 - val_loss: 0.0750\n",
            "Epoch 7/50\n",
            "356/356 [==============================] - 1s 3ms/step - loss: 0.0742 - val_loss: 0.0737\n",
            "Epoch 8/50\n",
            "356/356 [==============================] - 1s 3ms/step - loss: 0.0730 - val_loss: 0.0727\n",
            "Epoch 9/50\n",
            "356/356 [==============================] - 1s 3ms/step - loss: 0.0721 - val_loss: 0.0719\n",
            "Epoch 10/50\n",
            "356/356 [==============================] - 1s 3ms/step - loss: 0.0713 - val_loss: 0.0712\n",
            "Epoch 11/50\n",
            "356/356 [==============================] - 1s 3ms/step - loss: 0.0706 - val_loss: 0.0705\n",
            "Epoch 12/50\n",
            "356/356 [==============================] - 1s 3ms/step - loss: 0.0699 - val_loss: 0.0699\n",
            "Epoch 13/50\n",
            "356/356 [==============================] - 1s 3ms/step - loss: 0.0693 - val_loss: 0.0693\n",
            "Epoch 14/50\n",
            "356/356 [==============================] - 1s 3ms/step - loss: 0.0686 - val_loss: 0.0686\n",
            "Epoch 15/50\n",
            "356/356 [==============================] - 1s 3ms/step - loss: 0.0680 - val_loss: 0.0680\n",
            "Epoch 16/50\n",
            "356/356 [==============================] - 1s 3ms/step - loss: 0.0674 - val_loss: 0.0675\n",
            "Epoch 17/50\n",
            "356/356 [==============================] - 1s 3ms/step - loss: 0.0670 - val_loss: 0.0672\n",
            "Epoch 18/50\n",
            "356/356 [==============================] - 1s 3ms/step - loss: 0.0666 - val_loss: 0.0668\n",
            "Epoch 19/50\n",
            "356/356 [==============================] - 1s 3ms/step - loss: 0.0663 - val_loss: 0.0666\n",
            "Epoch 20/50\n",
            "356/356 [==============================] - 1s 3ms/step - loss: 0.0661 - val_loss: 0.0664\n",
            "Epoch 21/50\n",
            "356/356 [==============================] - 1s 3ms/step - loss: 0.0659 - val_loss: 0.0662\n",
            "Epoch 22/50\n",
            "356/356 [==============================] - 1s 3ms/step - loss: 0.0657 - val_loss: 0.0660\n",
            "Epoch 23/50\n",
            "356/356 [==============================] - 1s 3ms/step - loss: 0.0655 - val_loss: 0.0658\n",
            "Epoch 24/50\n",
            "356/356 [==============================] - 1s 3ms/step - loss: 0.0653 - val_loss: 0.0656\n",
            "Epoch 25/50\n",
            "356/356 [==============================] - 1s 3ms/step - loss: 0.0651 - val_loss: 0.0654\n"
          ]
        }
      ],
      "source": [
        "autoencoder = Sequential()\n",
        "autoencoder.add(Dense(50,  activation='sigmoid',name=\"bottleneck\",input_shape=(784,)))\n",
        "autoencoder.add(Dense(784,  activation='sigmoid'))\n",
        "autoencoder.compile(loss='mean_squared_error', optimizer = 'adam')\n",
        "\n",
        "early_stopping = callbacks.EarlyStopping(\n",
        "    min_delta=10E-4, # difference between average error of successive epochs fall below a threshold 10-4\n",
        "    patience=5, # how many epochs to wait before stopping\n",
        "    restore_best_weights=True,\n",
        ")\n",
        "#Train Model\n",
        "trained_model = autoencoder.fit(X_Train_noisy, X_Train_noisy, batch_size=32, epochs=50, verbose=1, validation_data=(X_Val_noisy , X_Val_noisy ),callbacks=[early_stopping])\n",
        "\n",
        "\n",
        "encoder = Model(autoencoder.input, autoencoder.get_layer('bottleneck').output)\n",
        "Train_encoded_data = encoder.predict(X_Train_noisy)  # bottleneck representation\n",
        "Val_encoded_data = encoder.predict(X_Val_noisy )\n",
        "Test_encoded_data =  encoder.predict(X_Test)\n",
        "decoded_output = autoencoder.predict(X_Train_noisy)        # reconstruction\n",
        "encoding_dim = 50\n",
        "\n",
        "# return the decoder\n",
        "encoded_input = Input(shape=(encoding_dim,))\n",
        "decoder = autoencoder.layers[-1](encoded_input)\n",
        "decoder = Model(encoded_input, decoder)"
      ]
    },
    {
      "cell_type": "code",
      "execution_count": null,
      "metadata": {
        "colab": {
          "base_uri": "https://localhost:8080/"
        },
        "id": "Dsv_IeGbneCb",
        "outputId": "083577bf-c052-4412-cc04-7da9329699dd"
      },
      "outputs": [
        {
          "data": {
            "text/plain": [
              "(11385, 50)"
            ]
          },
          "execution_count": 109,
          "metadata": {},
          "output_type": "execute_result"
        }
      ],
      "source": [
        "Train_encoded_data.shape"
      ]
    },
    {
      "cell_type": "code",
      "execution_count": null,
      "metadata": {
        "colab": {
          "base_uri": "https://localhost:8080/",
          "height": 282
        },
        "id": "XlczccxZneCc",
        "outputId": "0c32d99d-53cb-4577-e8d6-d5cf024f250b"
      },
      "outputs": [
        {
          "data": {
            "text/plain": [
              "<matplotlib.image.AxesImage at 0x7fc88a834590>"
            ]
          },
          "execution_count": 110,
          "metadata": {},
          "output_type": "execute_result"
        },
        {
          "data": {
            "image/png": "[encoded data removed]",
            "text/plain": [
              "<Figure size 432x288 with 1 Axes>"
            ]
          },
          "metadata": {
            "needs_background": "light"
          },
          "output_type": "display_data"
        }
      ],
      "source": [
        "plt.imshow(decoded_output[0].reshape(28,28))"
      ]
    },
    {
      "cell_type": "code",
      "execution_count": null,
      "metadata": {
        "colab": {
          "base_uri": "https://localhost:8080/"
        },
        "id": "azC6kVeLneCc",
        "outputId": "81b258b9-db0c-4500-d7ab-d2aecc9b42ce"
      },
      "outputs": [
        {
          "data": {
            "text/plain": [
              "(3795, 784)"
            ]
          },
          "execution_count": 111,
          "metadata": {},
          "output_type": "execute_result"
        }
      ],
      "source": [
        "X_Val.shape"
      ]
    },
    {
      "cell_type": "code",
      "execution_count": null,
      "metadata": {
        "id": "KlHuLTTMneCd"
      },
      "outputs": [],
      "source": [
        "model = keras.Sequential([\n",
        "    keras.layers.Dense(400, input_shape=(50,), activation='sigmoid'),\n",
        "    keras.layers.Dense(300, activation='sigmoid'),\n",
        "    keras.layers.Dense(200, activation='sigmoid'),\n",
        "    keras.layers.Dense(10, activation='sigmoid')\n",
        "])\n",
        "\n",
        "model.compile(optimizer='adam',\n",
        "              loss='sparse_categorical_crossentropy',\n",
        "              metrics=['accuracy'])"
      ]
    },
    {
      "cell_type": "code",
      "execution_count": null,
      "metadata": {
        "colab": {
          "base_uri": "https://localhost:8080/"
        },
        "id": "UHCn9BFTneCd",
        "outputId": "f1f6bddf-7b6b-4f8d-8b25-fe137e3db650"
      },
      "outputs": [
        {
          "name": "stdout",
          "output_type": "stream",
          "text": [
            "Epoch 1/100\n",
            "356/356 [==============================] - 2s 5ms/step - loss: 1.2418 - accuracy: 0.4721 - val_loss: 0.5273 - val_accuracy: 0.8248\n",
            "Epoch 2/100\n",
            "356/356 [==============================] - 2s 5ms/step - loss: 0.3890 - accuracy: 0.8682 - val_loss: 0.3667 - val_accuracy: 0.8725\n",
            "Epoch 3/100\n",
            "356/356 [==============================] - 2s 5ms/step - loss: 0.3240 - accuracy: 0.8910 - val_loss: 0.3279 - val_accuracy: 0.8885\n",
            "Epoch 4/100\n",
            "356/356 [==============================] - 2s 5ms/step - loss: 0.3128 - accuracy: 0.8934 - val_loss: 0.3372 - val_accuracy: 0.8877\n"
          ]
        }
      ],
      "source": [
        "from tensorflow.keras import layers, callbacks\n",
        "early_stopping = callbacks.EarlyStopping(\n",
        "    min_delta=10E-4, # minimium amount of change to count as an improvement\n",
        "    patience=1, # how many epochs to wait before stopping\n",
        "    restore_best_weights=True,\n",
        ")\n",
        "\n",
        "\n",
        "history = model.fit(\n",
        "    Train_encoded_data, Y_Train,\n",
        "    validation_data=(Val_encoded_data, Y_Val),\n",
        "    epochs=100,\n",
        "    callbacks=[early_stopping]\n",
        ")"
      ]
    },
    {
      "cell_type": "code",
      "execution_count": null,
      "metadata": {
        "colab": {
          "base_uri": "https://localhost:8080/",
          "height": 548
        },
        "id": "Pt-V2TMxneCd",
        "outputId": "c227274e-09d2-448d-a9cf-404a6ab7340f"
      },
      "outputs": [
        {
          "name": "stdout",
          "output_type": "stream",
          "text": [
            "Best Validation Loss: 0.3279\n",
            "Best Validation Accuracy: 0.8885\n"
          ]
        },
        {
          "data": {
            "image/png": "[encoded data removed]",
            "text/plain": [
              "<Figure size 432x288 with 1 Axes>"
            ]
          },
          "metadata": {
            "needs_background": "light"
          },
          "output_type": "display_data"
        },
        {
          "data": {
            "image/png": "[encoded data removed]",
            "text/plain": [
              "<Figure size 432x288 with 1 Axes>"
            ]
          },
          "metadata": {
            "needs_background": "light"
          },
          "output_type": "display_data"
        }
      ],
      "source": [
        "history_df = pd.DataFrame(history.history)\n",
        "# Start the plot at epoch 5\n",
        "history_df.loc[:, ['loss', 'val_loss']].plot()\n",
        "history_df.loc[:, ['accuracy', 'val_accuracy']].plot()\n",
        "\n",
        "print((\"Best Validation Loss: {:0.4f}\" +\\\n",
        "      \"\\nBest Validation Accuracy: {:0.4f}\")\\\n",
        "      .format(history_df['val_loss'].min(), \n",
        "              history_df['val_accuracy'].max()))"
      ]
    },
    {
      "cell_type": "code",
      "execution_count": null,
      "metadata": {
        "colab": {
          "base_uri": "https://localhost:8080/"
        },
        "id": "SPwOWgFeneCe",
        "outputId": "a44804e7-912d-49fc-8826-7e824bbd21bb"
      },
      "outputs": [
        {
          "name": "stdout",
          "output_type": "stream",
          "text": [
            "119/119 [==============================] - 0s 2ms/step - loss: 0.3414 - accuracy: 0.8809\n"
          ]
        },
        {
          "data": {
            "text/plain": [
              "[0.3414396345615387, 0.8808959126472473]"
            ]
          },
          "execution_count": 117,
          "metadata": {},
          "output_type": "execute_result"
        }
      ],
      "source": [
        "model.evaluate(Test_encoded_data, Y_Test)"
      ]
    },
    {
      "cell_type": "code",
      "execution_count": null,
      "metadata": {
        "id": "0Uvwg5s0neCe"
      },
      "outputs": [],
      "source": [
        "y_pred = model.predict(Test_encoded_data)"
      ]
    },
    {
      "cell_type": "code",
      "execution_count": null,
      "metadata": {
        "id": "buKbCs8eneCe"
      },
      "outputs": [],
      "source": [
        "pred_out = []\n",
        "for dataPoint in y_pred:\n",
        "  pred_out.append(np.argmax(dataPoint))"
      ]
    },
    {
      "cell_type": "code",
      "execution_count": null,
      "metadata": {
        "colab": {
          "base_uri": "https://localhost:8080/"
        },
        "id": "cfwqixwOneCe",
        "outputId": "d7e12d29-c69a-4104-b10b-6e876142acb4"
      },
      "outputs": [
        {
          "data": {
            "text/plain": [
              "array([[0.92118573, 0.01011527, 0.00274792, ..., 0.00712344, 0.00937387,\n",
              "        0.31857276],\n",
              "       [0.02140102, 0.01267686, 0.00840172, ..., 0.0063504 , 0.0184482 ,\n",
              "        0.99912447],\n",
              "       [0.03695697, 0.01462117, 0.00944418, ..., 0.00613323, 0.01740643,\n",
              "        0.9994854 ],\n",
              "       ...,\n",
              "       [0.6078056 , 0.00882465, 0.00313351, ..., 0.00817513, 0.01437777,\n",
              "        0.6346834 ],\n",
              "       [0.45324847, 0.01629728, 0.00966087, ..., 0.00792456, 0.01526305,\n",
              "        0.43718055],\n",
              "       [0.99918485, 0.01677218, 0.00521156, ..., 0.00992772, 0.01938063,\n",
              "        0.41757575]], dtype=float32)"
            ]
          },
          "execution_count": 120,
          "metadata": {},
          "output_type": "execute_result"
        }
      ],
      "source": [
        "y_pred"
      ]
    },
    {
      "cell_type": "code",
      "execution_count": null,
      "metadata": {
        "colab": {
          "base_uri": "https://localhost:8080/"
        },
        "id": "kqdoYu27neCf",
        "outputId": "2b23fa4c-6414-46d4-b177-e9876e2e8ed1"
      },
      "outputs": [
        {
          "data": {
            "text/plain": [
              "<tf.Tensor: shape=(10, 10), dtype=int32, numpy=\n",
              "array([[749,   0,   0,   2,   0,   2,   3,   0,   0,   3],\n",
              "       [  0,   0,   0,   0,   0,   0,   0,   0,   0,   0],\n",
              "       [  0,   0,   0,   0,   0,   0,   0,   0,   0,   0],\n",
              "       [ 32,   0,   0, 681,   0,  23,   5,   0,   0,  18],\n",
              "       [  0,   0,   0,   0,   0,   0,   0,   0,   0,   0],\n",
              "       [112,   0,   0,  92,   0, 518,  24,   0,   0,  13],\n",
              "       [ 31,   0,   0,   4,   0,  16, 707,   0,   0,   1],\n",
              "       [  0,   0,   0,   0,   0,   0,   0,   0,   0,   0],\n",
              "       [  0,   0,   0,   0,   0,   0,   0,   0,   0,   0],\n",
              "       [ 28,   0,   0,  28,   0,   9,   6,   0,   0, 688]], dtype=int32)>"
            ]
          },
          "execution_count": 121,
          "metadata": {},
          "output_type": "execute_result"
        }
      ],
      "source": [
        "cm = tf.math.confusion_matrix(labels=Y_Test,predictions=pred_out)\n",
        "cm"
      ]
    },
    {
      "cell_type": "code",
      "execution_count": null,
      "metadata": {
        "colab": {
          "base_uri": "https://localhost:8080/",
          "height": 460
        },
        "id": "KRiK1433neCf",
        "outputId": "0daced03-795b-4fd6-ee7f-637646024870"
      },
      "outputs": [
        {
          "data": {
            "text/plain": [
              "Text(69.0, 0.5, 'Actual')"
            ]
          },
          "execution_count": 123,
          "metadata": {},
          "output_type": "execute_result"
        },
        {
          "data": {
            "image/png": "[encoded data removed]",
            "text/plain": [
              "<Figure size 720x504 with 2 Axes>"
            ]
          },
          "metadata": {
            "needs_background": "light"
          },
          "output_type": "display_data"
        }
      ],
      "source": [
        "plt.figure(figsize = (10,7))\n",
        "sn.heatmap(cm, annot=True, fmt='d')\n",
        "plt.xlabel('Predicted')\n",
        "plt.ylabel('Actual')"
      ]
    }
  ],
  "metadata": {
    "colab": {
      "collapsed_sections": [],
      "name": "Deep_Learn_Group_32_Assign2_2.ipynb",
      "provenance": []
    },
    "kernelspec": {
      "display_name": "Python 3",
      "name": "python3"
    },
    "language_info": {
      "name": "python"
    }
  },
  "nbformat": 4,
  "nbformat_minor": 0
}
